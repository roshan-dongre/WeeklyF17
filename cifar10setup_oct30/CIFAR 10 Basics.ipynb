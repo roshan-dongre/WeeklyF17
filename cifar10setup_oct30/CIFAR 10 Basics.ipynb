{
 "cells": [
  {
   "cell_type": "markdown",
   "metadata": {},
   "source": [
    "# MLDS workshop: Basics of CIFAR 10"
   ]
  },
  {
   "cell_type": "markdown",
   "metadata": {},
   "source": [
    "## Welcome!\n",
    "In this notebook, we will look at the basics of CIFAR-10.\n",
    "Here is some stuff that we will be doing:\n",
    "* Learn how to load data\n",
    "* Look at how to visualize the data\n",
    "* Do some image manipulation, like taking averages of images.\n",
    "* Make a basic model and save our results."
   ]
  },
  {
   "cell_type": "markdown",
   "metadata": {},
   "source": [
    "## What's our task?\n",
    "We want to be able to read in an image, and spit out what it is. It is guaranteed that the image is that of one of the following:\n",
    "\n",
    "<img src='classes.png'>\n",
    "\n",
    "## Why is this hard?\n",
    "<img src='hard.png'>\n",
    "Image credit: Dr. Fei-Fei Li, CS231N, Stanford University\n",
    "\n",
    "## There is still hope!\n",
    "If humans can do this, perhaps machines can too. We have gotten more than 95% accuracy in the past for CIFAR-10."
   ]
  },
  {
   "cell_type": "markdown",
   "metadata": {},
   "source": [
    "## Loading the data\n",
    "For this section, we are assuming that you have the data saved in the same directory as this notebook, in a folder called `train`, and have the labels saved as `trainLables.csv`\n",
    "\n",
    "Lets go ahead and install and import all the libraries which will come in handy for this task, as well as those which will be helpful when we are making the model and saving the results."
   ]
  },
  {
   "cell_type": "code",
   "execution_count": 1,
   "metadata": {},
   "outputs": [
    {
     "name": "stdout",
     "output_type": "stream",
     "text": [
      "Requirement already satisfied: pandas in /Users/Air7/anaconda3/lib/python3.6/site-packages\n",
      "Requirement already satisfied: python-dateutil>=2 in /Users/Air7/anaconda3/lib/python3.6/site-packages (from pandas)\n",
      "Requirement already satisfied: pytz>=2011k in /Users/Air7/anaconda3/lib/python3.6/site-packages (from pandas)\n",
      "Requirement already satisfied: numpy>=1.7.0 in /Users/Air7/anaconda3/lib/python3.6/site-packages (from pandas)\n",
      "Requirement already satisfied: six>=1.5 in /Users/Air7/anaconda3/lib/python3.6/site-packages (from python-dateutil>=2->pandas)\n",
      "Requirement already satisfied: scipy in /Users/Air7/anaconda3/lib/python3.6/site-packages\n"
     ]
    }
   ],
   "source": [
    "%matplotlib inline\n",
    "!pip install pandas\n",
    "!pip install scipy"
   ]
  },
  {
   "cell_type": "code",
   "execution_count": 2,
   "metadata": {
    "collapsed": true
   },
   "outputs": [],
   "source": [
    "import csv # for reading data\n",
    "import pandas as pd # for manipulating data\n",
    "from matplotlib import pyplot as plt\n",
    "from scipy import misc\n",
    "import numpy as np"
   ]
  },
  {
   "cell_type": "markdown",
   "metadata": {},
   "source": [
    "Let's read in one sample image. Mode tells misc to convert the image to some format. L means black and white."
   ]
  },
  {
   "cell_type": "code",
   "execution_count": 3,
   "metadata": {
    "collapsed": true
   },
   "outputs": [],
   "source": [
    "sample_img = misc.imread('train/5.png', mode='L') # Let's read in the 5th image."
   ]
  },
  {
   "cell_type": "code",
   "execution_count": 4,
   "metadata": {},
   "outputs": [
    {
     "data": {
      "text/plain": [
       "(-0.5, 31.5, 31.5, -0.5)"
      ]
     },
     "execution_count": 4,
     "metadata": {},
     "output_type": "execute_result"
    },
    {
     "data": {
      "image/png": "[encoded data removed]",
      "text/plain": [
       "<matplotlib.figure.Figure at 0x1143ef208>"
      ]
     },
     "metadata": {},
     "output_type": "display_data"
    }
   ],
   "source": [
    "plt.imshow(sample_img, cmap='Greys') # cmap argument tells matplotlib how to render the image. I means black and white\n",
    "plt.axis('off')"
   ]
  },
  {
   "cell_type": "markdown",
   "metadata": {},
   "source": [
    "That's a car!\n",
    "\n",
    "You know that. I know that. My computer though, does not know that. Well not yet.\n",
    "\n",
    "Okay, let's see what the computer thinks this image is."
   ]
  },
  {
   "cell_type": "code",
   "execution_count": 5,
   "metadata": {},
   "outputs": [
    {
     "data": {
      "text/plain": [
       "array([[179, 177, 184, ..., 178, 176, 175],\n",
       "       [179, 182, 181, ..., 175, 174, 172],\n",
       "       [167, 162, 141, ..., 177, 175, 172],\n",
       "       ..., \n",
       "       [ 80,  81,  82, ...,  74,  71,  64],\n",
       "       [ 73,  74,  76, ...,  79,  74,  74],\n",
       "       [ 72,  73,  73, ...,  78,  74,  76]], dtype=uint8)"
      ]
     },
     "execution_count": 5,
     "metadata": {},
     "output_type": "execute_result"
    }
   ],
   "source": [
    "sample_img"
   ]
  },
  {
   "cell_type": "markdown",
   "metadata": {},
   "source": [
    "That's a lot of numbers. Let's find out how many:"
   ]
  },
  {
   "cell_type": "code",
   "execution_count": 6,
   "metadata": {},
   "outputs": [
    {
     "data": {
      "text/plain": [
       "(32, 32)"
      ]
     },
     "execution_count": 6,
     "metadata": {},
     "output_type": "execute_result"
    }
   ],
   "source": [
    "sample_img.shape"
   ]
  },
  {
   "cell_type": "markdown",
   "metadata": {},
   "source": [
    "Awesome, 32 pixels in width, 32 pixels in height, just as we expected.\n",
    "\n",
    "Now, let's flip the image along the x axis and along the y axis, just so that we have a solid idea of how it is represented."
   ]
  },
  {
   "cell_type": "code",
   "execution_count": 7,
   "metadata": {},
   "outputs": [
    {
     "data": {
      "text/plain": [
       "<matplotlib.image.AxesImage at 0x11762ce48>"
      ]
     },
     "execution_count": 7,
     "metadata": {},
     "output_type": "execute_result"
    },
    {
     "data": {
      "image/png": "[encoded data removed]",
      "text/plain": [
       "<matplotlib.figure.Figure at 0x1144f2828>"
      ]
     },
     "metadata": {},
     "output_type": "display_data"
    }
   ],
   "source": [
    "plt.imshow(np.fliplr(sample_img), cmap='Greys')"
   ]
  },
  {
   "cell_type": "code",
   "execution_count": 8,
   "metadata": {},
   "outputs": [
    {
     "data": {
      "text/plain": [
       "<matplotlib.image.AxesImage at 0x1177d2a20>"
      ]
     },
     "execution_count": 8,
     "metadata": {},
     "output_type": "execute_result"
    },
    {
     "data": {
      "image/png": "[encoded data removed]",
      "text/plain": [
       "<matplotlib.figure.Figure at 0x1176de6d8>"
      ]
     },
     "metadata": {},
     "output_type": "display_data"
    }
   ],
   "source": [
    "plt.imshow(np.flipud(sample_img), cmap='Greys')"
   ]
  },
  {
   "cell_type": "markdown",
   "metadata": {},
   "source": [
    "Okay, got it, 2-D array of values. This was originally colored, in that case this would have been 3-D, with the third side encoding color.\n",
    "\n",
    "Also, there is a lesson up there -- before you try doing anything yourself, check online to see if there is an existing library method to do it."
   ]
  },
  {
   "cell_type": "code",
   "execution_count": 10,
   "metadata": {
    "collapsed": true
   },
   "outputs": [],
   "source": [
    "sample_img_color = misc.imread('train/5.png', mode='RGB')"
   ]
  },
  {
   "cell_type": "markdown",
   "metadata": {},
   "source": [
    "You can read all about the useful routines available in scipy.misc at https://goo.gl/JMUzhk"
   ]
  },
  {
   "cell_type": "markdown",
   "metadata": {},
   "source": [
    "Let's look at the color image"
   ]
  },
  {
   "cell_type": "code",
   "execution_count": 11,
   "metadata": {},
   "outputs": [
    {
     "data": {
      "text/plain": [
       "(-0.5, 31.5, 31.5, -0.5)"
      ]
     },
     "execution_count": 11,
     "metadata": {},
     "output_type": "execute_result"
    },
    {
     "data": {
      "image/png": "[encoded data removed]",
      "text/plain": [
       "<matplotlib.figure.Figure at 0x1177ee6a0>"
      ]
     },
     "metadata": {},
     "output_type": "display_data"
    }
   ],
   "source": [
    "plt.imshow(sample_img_color)\n",
    "plt.axis('off')"
   ]
  },
  {
   "cell_type": "markdown",
   "metadata": {},
   "source": [
    "Let's look at how the color image is represented."
   ]
  },
  {
   "cell_type": "code",
   "execution_count": 12,
   "metadata": {},
   "outputs": [
    {
     "data": {
      "text/plain": [
       "array([[[170, 180, 198],\n",
       "        [168, 178, 196],\n",
       "        [177, 185, 203],\n",
       "        ..., \n",
       "        [162, 179, 215],\n",
       "        [158, 178, 214],\n",
       "        [157, 177, 212]],\n",
       "\n",
       "       [[168, 181, 198],\n",
       "        [172, 185, 201],\n",
       "        [171, 183, 200],\n",
       "        ..., \n",
       "        [159, 177, 212],\n",
       "        [156, 176, 211],\n",
       "        [154, 174, 209]],\n",
       "\n",
       "       [[154, 170, 186],\n",
       "        [149, 165, 181],\n",
       "        [129, 144, 162],\n",
       "        ..., \n",
       "        [161, 178, 214],\n",
       "        [157, 177, 212],\n",
       "        [154, 174, 209]],\n",
       "\n",
       "       ..., \n",
       "       [[ 74,  84,  80],\n",
       "        [ 76,  85,  81],\n",
       "        [ 78,  85,  82],\n",
       "        ..., \n",
       "        [ 71,  75,  78],\n",
       "        [ 68,  72,  75],\n",
       "        [ 61,  65,  68]],\n",
       "\n",
       "       [[ 68,  76,  77],\n",
       "        [ 69,  77,  78],\n",
       "        [ 72,  79,  78],\n",
       "        ..., \n",
       "        [ 76,  80,  83],\n",
       "        [ 71,  75,  78],\n",
       "        [ 71,  75,  78]],\n",
       "\n",
       "       [[ 67,  75,  78],\n",
       "        [ 68,  76,  79],\n",
       "        [ 69,  75,  76],\n",
       "        ..., \n",
       "        [ 75,  79,  82],\n",
       "        [ 71,  75,  78],\n",
       "        [ 73,  77,  80]]], dtype=uint8)"
      ]
     },
     "execution_count": 12,
     "metadata": {},
     "output_type": "execute_result"
    }
   ],
   "source": [
    "sample_img_color"
   ]
  },
  {
   "cell_type": "code",
   "execution_count": 13,
   "metadata": {},
   "outputs": [
    {
     "data": {
      "text/plain": [
       "(32, 32, 3)"
      ]
     },
     "execution_count": 13,
     "metadata": {},
     "output_type": "execute_result"
    }
   ],
   "source": [
    "sample_img_color.shape"
   ]
  },
  {
   "cell_type": "markdown",
   "metadata": {},
   "source": [
    "Awesome. That is 32x32 pixels, and three color channels per pixel (Red, Blue and Green).\n",
    "\n",
    "So now that we know what the images look like, let's load the labels. They are stored in the same folder as trainLabels.csv. We are going to load this into a pandas dataframe. This is really easy -- you just say pd.read_csv."
   ]
  },
  {
   "cell_type": "code",
   "execution_count": 14,
   "metadata": {
    "collapsed": true
   },
   "outputs": [],
   "source": [
    "labels = pd.read_csv('trainLabels.csv')"
   ]
  },
  {
   "cell_type": "code",
   "execution_count": 15,
   "metadata": {},
   "outputs": [
    {
     "data": {
      "text/html": [
       "<div>\n",
       "<style>\n",
       "    .dataframe thead tr:only-child th {\n",
       "        text-align: right;\n",
       "    }\n",
       "\n",
       "    .dataframe thead th {\n",
       "        text-align: left;\n",
       "    }\n",
       "\n",
       "    .dataframe tbody tr th {\n",
       "        vertical-align: top;\n",
       "    }\n",
       "</style>\n",
       "<table border=\"1\" class=\"dataframe\">\n",
       "  <thead>\n",
       "    <tr style=\"text-align: right;\">\n",
       "      <th></th>\n",
       "      <th>id</th>\n",
       "      <th>label</th>\n",
       "    </tr>\n",
       "  </thead>\n",
       "  <tbody>\n",
       "    <tr>\n",
       "      <th>0</th>\n",
       "      <td>1</td>\n",
       "      <td>frog</td>\n",
       "    </tr>\n",
       "    <tr>\n",
       "      <th>1</th>\n",
       "      <td>2</td>\n",
       "      <td>truck</td>\n",
       "    </tr>\n",
       "    <tr>\n",
       "      <th>2</th>\n",
       "      <td>3</td>\n",
       "      <td>truck</td>\n",
       "    </tr>\n",
       "    <tr>\n",
       "      <th>3</th>\n",
       "      <td>4</td>\n",
       "      <td>deer</td>\n",
       "    </tr>\n",
       "    <tr>\n",
       "      <th>4</th>\n",
       "      <td>5</td>\n",
       "      <td>automobile</td>\n",
       "    </tr>\n",
       "    <tr>\n",
       "      <th>5</th>\n",
       "      <td>6</td>\n",
       "      <td>automobile</td>\n",
       "    </tr>\n",
       "    <tr>\n",
       "      <th>6</th>\n",
       "      <td>7</td>\n",
       "      <td>bird</td>\n",
       "    </tr>\n",
       "    <tr>\n",
       "      <th>7</th>\n",
       "      <td>8</td>\n",
       "      <td>horse</td>\n",
       "    </tr>\n",
       "    <tr>\n",
       "      <th>8</th>\n",
       "      <td>9</td>\n",
       "      <td>ship</td>\n",
       "    </tr>\n",
       "    <tr>\n",
       "      <th>9</th>\n",
       "      <td>10</td>\n",
       "      <td>cat</td>\n",
       "    </tr>\n",
       "    <tr>\n",
       "      <th>10</th>\n",
       "      <td>11</td>\n",
       "      <td>deer</td>\n",
       "    </tr>\n",
       "    <tr>\n",
       "      <th>11</th>\n",
       "      <td>12</td>\n",
       "      <td>horse</td>\n",
       "    </tr>\n",
       "    <tr>\n",
       "      <th>12</th>\n",
       "      <td>13</td>\n",
       "      <td>horse</td>\n",
       "    </tr>\n",
       "    <tr>\n",
       "      <th>13</th>\n",
       "      <td>14</td>\n",
       "      <td>bird</td>\n",
       "    </tr>\n",
       "    <tr>\n",
       "      <th>14</th>\n",
       "      <td>15</td>\n",
       "      <td>truck</td>\n",
       "    </tr>\n",
       "    <tr>\n",
       "      <th>15</th>\n",
       "      <td>16</td>\n",
       "      <td>truck</td>\n",
       "    </tr>\n",
       "    <tr>\n",
       "      <th>16</th>\n",
       "      <td>17</td>\n",
       "      <td>truck</td>\n",
       "    </tr>\n",
       "    <tr>\n",
       "      <th>17</th>\n",
       "      <td>18</td>\n",
       "      <td>cat</td>\n",
       "    </tr>\n",
       "    <tr>\n",
       "      <th>18</th>\n",
       "      <td>19</td>\n",
       "      <td>bird</td>\n",
       "    </tr>\n",
       "    <tr>\n",
       "      <th>19</th>\n",
       "      <td>20</td>\n",
       "      <td>frog</td>\n",
       "    </tr>\n",
       "    <tr>\n",
       "      <th>20</th>\n",
       "      <td>21</td>\n",
       "      <td>deer</td>\n",
       "    </tr>\n",
       "    <tr>\n",
       "      <th>21</th>\n",
       "      <td>22</td>\n",
       "      <td>cat</td>\n",
       "    </tr>\n",
       "    <tr>\n",
       "      <th>22</th>\n",
       "      <td>23</td>\n",
       "      <td>frog</td>\n",
       "    </tr>\n",
       "    <tr>\n",
       "      <th>23</th>\n",
       "      <td>24</td>\n",
       "      <td>frog</td>\n",
       "    </tr>\n",
       "    <tr>\n",
       "      <th>24</th>\n",
       "      <td>25</td>\n",
       "      <td>bird</td>\n",
       "    </tr>\n",
       "    <tr>\n",
       "      <th>25</th>\n",
       "      <td>26</td>\n",
       "      <td>frog</td>\n",
       "    </tr>\n",
       "    <tr>\n",
       "      <th>26</th>\n",
       "      <td>27</td>\n",
       "      <td>cat</td>\n",
       "    </tr>\n",
       "    <tr>\n",
       "      <th>27</th>\n",
       "      <td>28</td>\n",
       "      <td>dog</td>\n",
       "    </tr>\n",
       "    <tr>\n",
       "      <th>28</th>\n",
       "      <td>29</td>\n",
       "      <td>deer</td>\n",
       "    </tr>\n",
       "    <tr>\n",
       "      <th>29</th>\n",
       "      <td>30</td>\n",
       "      <td>airplane</td>\n",
       "    </tr>\n",
       "    <tr>\n",
       "      <th>...</th>\n",
       "      <td>...</td>\n",
       "      <td>...</td>\n",
       "    </tr>\n",
       "    <tr>\n",
       "      <th>49970</th>\n",
       "      <td>49971</td>\n",
       "      <td>cat</td>\n",
       "    </tr>\n",
       "    <tr>\n",
       "      <th>49971</th>\n",
       "      <td>49972</td>\n",
       "      <td>truck</td>\n",
       "    </tr>\n",
       "    <tr>\n",
       "      <th>49972</th>\n",
       "      <td>49973</td>\n",
       "      <td>bird</td>\n",
       "    </tr>\n",
       "    <tr>\n",
       "      <th>49973</th>\n",
       "      <td>49974</td>\n",
       "      <td>automobile</td>\n",
       "    </tr>\n",
       "    <tr>\n",
       "      <th>49974</th>\n",
       "      <td>49975</td>\n",
       "      <td>deer</td>\n",
       "    </tr>\n",
       "    <tr>\n",
       "      <th>49975</th>\n",
       "      <td>49976</td>\n",
       "      <td>cat</td>\n",
       "    </tr>\n",
       "    <tr>\n",
       "      <th>49976</th>\n",
       "      <td>49977</td>\n",
       "      <td>ship</td>\n",
       "    </tr>\n",
       "    <tr>\n",
       "      <th>49977</th>\n",
       "      <td>49978</td>\n",
       "      <td>automobile</td>\n",
       "    </tr>\n",
       "    <tr>\n",
       "      <th>49978</th>\n",
       "      <td>49979</td>\n",
       "      <td>horse</td>\n",
       "    </tr>\n",
       "    <tr>\n",
       "      <th>49979</th>\n",
       "      <td>49980</td>\n",
       "      <td>cat</td>\n",
       "    </tr>\n",
       "    <tr>\n",
       "      <th>49980</th>\n",
       "      <td>49981</td>\n",
       "      <td>dog</td>\n",
       "    </tr>\n",
       "    <tr>\n",
       "      <th>49981</th>\n",
       "      <td>49982</td>\n",
       "      <td>deer</td>\n",
       "    </tr>\n",
       "    <tr>\n",
       "      <th>49982</th>\n",
       "      <td>49983</td>\n",
       "      <td>cat</td>\n",
       "    </tr>\n",
       "    <tr>\n",
       "      <th>49983</th>\n",
       "      <td>49984</td>\n",
       "      <td>cat</td>\n",
       "    </tr>\n",
       "    <tr>\n",
       "      <th>49984</th>\n",
       "      <td>49985</td>\n",
       "      <td>deer</td>\n",
       "    </tr>\n",
       "    <tr>\n",
       "      <th>49985</th>\n",
       "      <td>49986</td>\n",
       "      <td>ship</td>\n",
       "    </tr>\n",
       "    <tr>\n",
       "      <th>49986</th>\n",
       "      <td>49987</td>\n",
       "      <td>horse</td>\n",
       "    </tr>\n",
       "    <tr>\n",
       "      <th>49987</th>\n",
       "      <td>49988</td>\n",
       "      <td>bird</td>\n",
       "    </tr>\n",
       "    <tr>\n",
       "      <th>49988</th>\n",
       "      <td>49989</td>\n",
       "      <td>dog</td>\n",
       "    </tr>\n",
       "    <tr>\n",
       "      <th>49989</th>\n",
       "      <td>49990</td>\n",
       "      <td>automobile</td>\n",
       "    </tr>\n",
       "    <tr>\n",
       "      <th>49990</th>\n",
       "      <td>49991</td>\n",
       "      <td>deer</td>\n",
       "    </tr>\n",
       "    <tr>\n",
       "      <th>49991</th>\n",
       "      <td>49992</td>\n",
       "      <td>bird</td>\n",
       "    </tr>\n",
       "    <tr>\n",
       "      <th>49992</th>\n",
       "      <td>49993</td>\n",
       "      <td>airplane</td>\n",
       "    </tr>\n",
       "    <tr>\n",
       "      <th>49993</th>\n",
       "      <td>49994</td>\n",
       "      <td>automobile</td>\n",
       "    </tr>\n",
       "    <tr>\n",
       "      <th>49994</th>\n",
       "      <td>49995</td>\n",
       "      <td>airplane</td>\n",
       "    </tr>\n",
       "    <tr>\n",
       "      <th>49995</th>\n",
       "      <td>49996</td>\n",
       "      <td>bird</td>\n",
       "    </tr>\n",
       "    <tr>\n",
       "      <th>49996</th>\n",
       "      <td>49997</td>\n",
       "      <td>frog</td>\n",
       "    </tr>\n",
       "    <tr>\n",
       "      <th>49997</th>\n",
       "      <td>49998</td>\n",
       "      <td>truck</td>\n",
       "    </tr>\n",
       "    <tr>\n",
       "      <th>49998</th>\n",
       "      <td>49999</td>\n",
       "      <td>automobile</td>\n",
       "    </tr>\n",
       "    <tr>\n",
       "      <th>49999</th>\n",
       "      <td>50000</td>\n",
       "      <td>automobile</td>\n",
       "    </tr>\n",
       "  </tbody>\n",
       "</table>\n",
       "<p>50000 rows × 2 columns</p>\n",
       "</div>"
      ],
      "text/plain": [
       "          id       label\n",
       "0          1        frog\n",
       "1          2       truck\n",
       "2          3       truck\n",
       "3          4        deer\n",
       "4          5  automobile\n",
       "5          6  automobile\n",
       "6          7        bird\n",
       "7          8       horse\n",
       "8          9        ship\n",
       "9         10         cat\n",
       "10        11        deer\n",
       "11        12       horse\n",
       "12        13       horse\n",
       "13        14        bird\n",
       "14        15       truck\n",
       "15        16       truck\n",
       "16        17       truck\n",
       "17        18         cat\n",
       "18        19        bird\n",
       "19        20        frog\n",
       "20        21        deer\n",
       "21        22         cat\n",
       "22        23        frog\n",
       "23        24        frog\n",
       "24        25        bird\n",
       "25        26        frog\n",
       "26        27         cat\n",
       "27        28         dog\n",
       "28        29        deer\n",
       "29        30    airplane\n",
       "...      ...         ...\n",
       "49970  49971         cat\n",
       "49971  49972       truck\n",
       "49972  49973        bird\n",
       "49973  49974  automobile\n",
       "49974  49975        deer\n",
       "49975  49976         cat\n",
       "49976  49977        ship\n",
       "49977  49978  automobile\n",
       "49978  49979       horse\n",
       "49979  49980         cat\n",
       "49980  49981         dog\n",
       "49981  49982        deer\n",
       "49982  49983         cat\n",
       "49983  49984         cat\n",
       "49984  49985        deer\n",
       "49985  49986        ship\n",
       "49986  49987       horse\n",
       "49987  49988        bird\n",
       "49988  49989         dog\n",
       "49989  49990  automobile\n",
       "49990  49991        deer\n",
       "49991  49992        bird\n",
       "49992  49993    airplane\n",
       "49993  49994  automobile\n",
       "49994  49995    airplane\n",
       "49995  49996        bird\n",
       "49996  49997        frog\n",
       "49997  49998       truck\n",
       "49998  49999  automobile\n",
       "49999  50000  automobile\n",
       "\n",
       "[50000 rows x 2 columns]"
      ]
     },
     "execution_count": 15,
     "metadata": {},
     "output_type": "execute_result"
    }
   ],
   "source": [
    "labels"
   ]
  },
  {
   "cell_type": "markdown",
   "metadata": {},
   "source": [
    "Now we are going to do something cool: we are going to build a massive pandas panel, where each \"row\" is a 2-D image, and the associated label. We are going to stick with greyscale for now.\n"
   ]
  },
  {
   "cell_type": "code",
   "execution_count": 16,
   "metadata": {
    "collapsed": true
   },
   "outputs": [],
   "source": [
    "# Read in all the images into a list\n",
    "list_ = []\n",
    "for i in np.arange(1, 50001):\n",
    "    list_.append(misc.imread('train/' + str(i) + '.png', mode='I'))"
   ]
  },
  {
   "cell_type": "code",
   "execution_count": 17,
   "metadata": {
    "collapsed": true
   },
   "outputs": [],
   "source": [
    "# Convert the list into a panel\n",
    "training_data = pd.Panel(list_)"
   ]
  },
  {
   "cell_type": "markdown",
   "metadata": {},
   "source": [
    "Let's see 4 random images to see if the images and the labels match up."
   ]
  },
  {
   "cell_type": "code",
   "execution_count": 18,
   "metadata": {},
   "outputs": [
    {
     "data": {
      "image/png": "[encoded data removed]",
      "text/plain": [
       "<matplotlib.figure.Figure at 0x1176970f0>"
      ]
     },
     "metadata": {},
     "output_type": "display_data"
    },
    {
     "data": {
      "image/png": "[encoded data removed]",
      "text/plain": [
       "<matplotlib.figure.Figure at 0x117826518>"
      ]
     },
     "metadata": {},
     "output_type": "display_data"
    },
    {
     "data": {
      "image/png": "[encoded data removed]",
      "text/plain": [
       "<matplotlib.figure.Figure at 0x124fa7f28>"
      ]
     },
     "metadata": {},
     "output_type": "display_data"
    },
    {
     "data": {
      "image/png": "[encoded data removed]",
      "text/plain": [
       "<matplotlib.figure.Figure at 0x12502d3c8>"
      ]
     },
     "metadata": {},
     "output_type": "display_data"
    }
   ],
   "source": [
    "rand_indices = np.random.randint(1,50001, size=4)\n",
    "for i, ix in enumerate(rand_indices): # enumerate is a python function which automatically creates a counter for you\n",
    "    plt.figure(i)\n",
    "    plt.imshow(training_data.iloc[ix], cmap='Greys')\n",
    "    plt.title(labels.iloc[ix])\n",
    "    plt.draw()"
   ]
  },
  {
   "cell_type": "markdown",
   "metadata": {},
   "source": [
    "Awesome. Now, let's see how to get all the cats."
   ]
  },
  {
   "cell_type": "code",
   "execution_count": 19,
   "metadata": {
    "collapsed": true
   },
   "outputs": [],
   "source": [
    "all_cats = training_data[labels['label'] == 'cat']"
   ]
  },
  {
   "cell_type": "code",
   "execution_count": 20,
   "metadata": {},
   "outputs": [
    {
     "data": {
      "image/png": "[encoded data removed]",
      "text/plain": [
       "<matplotlib.figure.Figure at 0x11768cb38>"
      ]
     },
     "metadata": {},
     "output_type": "display_data"
    },
    {
     "data": {
      "image/png": "[encoded data removed]",
      "text/plain": [
       "<matplotlib.figure.Figure at 0x10ac540f0>"
      ]
     },
     "metadata": {},
     "output_type": "display_data"
    },
    {
     "data": {
      "image/png": "[encoded data removed]",
      "text/plain": [
       "<matplotlib.figure.Figure at 0x127b65550>"
      ]
     },
     "metadata": {},
     "output_type": "display_data"
    },
    {
     "data": {
      "image/png": "[encoded data removed]",
      "text/plain": [
       "<matplotlib.figure.Figure at 0x127bd2dd8>"
      ]
     },
     "metadata": {},
     "output_type": "display_data"
    }
   ],
   "source": [
    "rand_indices = np.random.randint(1,len(all_cats), size=4)\n",
    "for i, ix in enumerate(rand_indices):\n",
    "    plt.figure(i)\n",
    "    plt.imshow(all_cats.iloc[ix], cmap='Greys')\n",
    "    plt.title('cat')\n",
    "    plt.draw()"
   ]
  },
  {
   "cell_type": "markdown",
   "metadata": {},
   "source": [
    "Let's see if we can average all cats"
   ]
  },
  {
   "cell_type": "code",
   "execution_count": 21,
   "metadata": {},
   "outputs": [
    {
     "data": {
      "text/plain": [
       "<matplotlib.image.AxesImage at 0x127d9ecc0>"
      ]
     },
     "execution_count": 21,
     "metadata": {},
     "output_type": "execute_result"
    },
    {
     "data": {
      "image/png": "[encoded data removed]",
      "text/plain": [
       "<matplotlib.figure.Figure at 0x117826080>"
      ]
     },
     "metadata": {},
     "output_type": "display_data"
    }
   ],
   "source": [
    "plt.imshow(all_cats.mean(axis=0), cmap='Greys')"
   ]
  },
  {
   "cell_type": "markdown",
   "metadata": {},
   "source": [
    "Hmm, it is not just all a similar grey color throughout the photo. Seems like cat photos tend to be brighter in some places and darker in others. I wonder if this also holds true for other categories?"
   ]
  },
  {
   "cell_type": "code",
   "execution_count": 22,
   "metadata": {},
   "outputs": [
    {
     "data": {
      "image/png": "[encoded data removed]",
      "text/plain": [
       "<matplotlib.figure.Figure at 0x117621828>"
      ]
     },
     "metadata": {},
     "output_type": "display_data"
    },
    {
     "data": {
      "image/png": "[encoded data removed]",
      "text/plain": [
       "<matplotlib.figure.Figure at 0x127e1a240>"
      ]
     },
     "metadata": {},
     "output_type": "display_data"
    },
    {
     "data": {
      "image/png": "[encoded data removed]",
      "text/plain": [
       "<matplotlib.figure.Figure at 0x124f1e6a0>"
      ]
     },
     "metadata": {},
     "output_type": "display_data"
    },
    {
     "data": {
      "image/png": "[encoded data removed]",
      "text/plain": [
       "<matplotlib.figure.Figure at 0x12942f470>"
      ]
     },
     "metadata": {},
     "output_type": "display_data"
    },
    {
     "data": {
      "image/png": "[encoded data removed]",
      "text/plain": [
       "<matplotlib.figure.Figure at 0x12a940e48>"
      ]
     },
     "metadata": {},
     "output_type": "display_data"
    },
    {
     "data": {
      "image/png": "[encoded data removed]",
      "text/plain": [
       "<matplotlib.figure.Figure at 0x12a9f3b00>"
      ]
     },
     "metadata": {},
     "output_type": "display_data"
    },
    {
     "data": {
      "image/png": "[encoded data removed]",
      "text/plain": [
       "<matplotlib.figure.Figure at 0x12ab595f8>"
      ]
     },
     "metadata": {},
     "output_type": "display_data"
    },
    {
     "data": {
      "image/png": "[encoded data removed]",
      "text/plain": [
       "<matplotlib.figure.Figure at 0x12ad69128>"
      ]
     },
     "metadata": {},
     "output_type": "display_data"
    },
    {
     "data": {
      "image/png": "[encoded data removed]",
      "text/plain": [
       "<matplotlib.figure.Figure at 0x127beefd0>"
      ]
     },
     "metadata": {},
     "output_type": "display_data"
    },
    {
     "data": {
      "image/png": "[encoded data removed]",
      "text/plain": [
       "<matplotlib.figure.Figure at 0x11444ecc0>"
      ]
     },
     "metadata": {},
     "output_type": "display_data"
    }
   ],
   "source": [
    "categories = ['airplane',\n",
    " 'automobile',\n",
    " 'bird',\n",
    " 'cat',\n",
    " 'deer',\n",
    " 'dog',\n",
    " 'frog',\n",
    " 'horse',\n",
    " 'ship',\n",
    " 'truck']\n",
    "for i, category in enumerate(categories):\n",
    "    imgs_in_category = training_data[labels['label'] == category]\n",
    "    avg = imgs_in_category.mean(axis=0)\n",
    "    plt.figure(i)\n",
    "    plt.imshow(avg, cmap='Greys')\n",
    "    plt.title(category)\n",
    "    plt.draw()"
   ]
  },
  {
   "cell_type": "markdown",
   "metadata": {},
   "source": [
    "That looks somewhat promising! This kind of makes sense: photos of different categories are on average quite dissimilar. So how about this: when we get a new image, we will compare it to the averages of images shown here. We will say that the image belongs to the category for which it lies closest to.\n",
    "\n",
    "Also note how fast that was. We just averaged and plotted thousands of photos in a second! These libraries are usually written by PhDs in numerical computing, so I highly recommend sticking to them for high performance code.\n",
    "\n",
    "Now, let's try taking advantage of the things that we just saw. We would like all teams to submit one model by the next meeting, to make sure that we are all set up and ready to go. The model that you should submit is described below. If you come up with something which does better than the one that we have described, go ahead and submit it :)"
   ]
  },
  {
   "cell_type": "markdown",
   "metadata": {},
   "source": [
    "## Challenge 1: Use the average image to compute the class of an image\n",
    "\n",
    "Since images from each class look slightly different, it might be worthwhile to use that to predict the classes of our images. The code snippets provided might help you in this.\n",
    "\n",
    "Step 1: Compute the average image for each class. Much of this has been done for you.\n",
    "\n",
    "Step 2: For each image in the test set, compute the sum of squared difference with the pixels of each \"averaged\" image. You will obtain 10 quantities. Assign the label to this test image which corresponds with the smallest difference.\n",
    "\n",
    "Step 3: Put your results in a csv, upload it to kaggle, and add a screenshot to a folder with your code. Upload all this to github. Remember: you do NOT need to upload the data to github."
   ]
  },
  {
   "cell_type": "markdown",
   "metadata": {},
   "source": [
    "## For the go-getters\n",
    "\n",
    "You might want to explore two more approaches\n",
    "\n",
    "* Instead of taking the sum of the squared differences, take the two images you are comparing, flatten them into a single vector, and compute the angle between the two vectors. The smallest angle wins.\n",
    "\n",
    "* Instead of computing averages, find the five images in the training set which are \"closest\" to the test image. You can define closest however you want -- sum of squared differences, angle between vectors etc. Warning: while this *might* give you better results, this approach will be quite slow."
   ]
  },
  {
   "cell_type": "markdown",
   "metadata": {},
   "source": [
    "## Sample code\n",
    "\n",
    "### Computing sum of squared differences between two images"
   ]
  },
  {
   "cell_type": "code",
   "execution_count": 31,
   "metadata": {},
   "outputs": [
    {
     "data": {
      "text/plain": [
       "5074819"
      ]
     },
     "execution_count": 31,
     "metadata": {},
     "output_type": "execute_result"
    }
   ],
   "source": [
    "img1 = training_data.iloc[0]\n",
    "img2 = training_data.iloc[1]\n",
    "((img1 - img2)**2).sum().sum()"
   ]
  },
  {
   "cell_type": "markdown",
   "metadata": {},
   "source": [
    "### Vectorizing an image"
   ]
  },
  {
   "cell_type": "code",
   "execution_count": 41,
   "metadata": {},
   "outputs": [
    {
     "data": {
      "text/plain": [
       "0   0      61\n",
       "    1      44\n",
       "    2      48\n",
       "    3      56\n",
       "    4      78\n",
       "    5      96\n",
       "    6     112\n",
       "    7     117\n",
       "    8     123\n",
       "    9     125\n",
       "    10    108\n",
       "    11    104\n",
       "    12    120\n",
       "    13    118\n",
       "    14    111\n",
       "    15    103\n",
       "    16    112\n",
       "    17    110\n",
       "    18    101\n",
       "    19    116\n",
       "    20    115\n",
       "    21    109\n",
       "    22    110\n",
       "    23    113\n",
       "    24    126\n",
       "    25    137\n",
       "    26    142\n",
       "    27    134\n",
       "    28    135\n",
       "    29    137\n",
       "         ... \n",
       "31  2     146\n",
       "    3     151\n",
       "    4     166\n",
       "    5     184\n",
       "    6     185\n",
       "    7     176\n",
       "    8     161\n",
       "    9     145\n",
       "    10    136\n",
       "    11    134\n",
       "    12    134\n",
       "    13    130\n",
       "    14    122\n",
       "    15    128\n",
       "    16    131\n",
       "    17    123\n",
       "    18    112\n",
       "    19    113\n",
       "    20    117\n",
       "    21    105\n",
       "    22     93\n",
       "    23     95\n",
       "    24    102\n",
       "    25     93\n",
       "    26     72\n",
       "    27     83\n",
       "    28    144\n",
       "    29    188\n",
       "    30    123\n",
       "    31     98\n",
       "Length: 1024, dtype: int32"
      ]
     },
     "execution_count": 41,
     "metadata": {},
     "output_type": "execute_result"
    }
   ],
   "source": [
    "img1.stack()"
   ]
  },
  {
   "cell_type": "markdown",
   "metadata": {},
   "source": [
    "### Saving something to a csv"
   ]
  },
  {
   "cell_type": "markdown",
   "metadata": {},
   "source": []
  },
  {
   "cell_type": "code",
   "execution_count": 43,
   "metadata": {},
   "outputs": [],
   "source": [
    "solution = [(i, 'cat') for i in np.arange(1, 50001)]"
   ]
  },
  {
   "cell_type": "code",
   "execution_count": 44,
   "metadata": {},
   "outputs": [
    {
     "data": {
      "text/plain": [
       "[(1, 'cat'),\n",
       " (2, 'cat'),\n",
       " (3, 'cat'),\n",
       " (4, 'cat'),\n",
       " (5, 'cat'),\n",
       " (6, 'cat'),\n",
       " (7, 'cat'),\n",
       " (8, 'cat'),\n",
       " (9, 'cat'),\n",
       " (10, 'cat'),\n",
       " (11, 'cat'),\n",
       " (12, 'cat'),\n",
       " (13, 'cat'),\n",
       " (14, 'cat'),\n",
       " (15, 'cat'),\n",
       " (16, 'cat'),\n",
       " (17, 'cat'),\n",
       " (18, 'cat'),\n",
       " (19, 'cat'),\n",
       " (20, 'cat'),\n",
       " (21, 'cat'),\n",
       " (22, 'cat'),\n",
       " (23, 'cat'),\n",
       " (24, 'cat'),\n",
       " (25, 'cat'),\n",
       " (26, 'cat'),\n",
       " (27, 'cat'),\n",
       " (28, 'cat'),\n",
       " (29, 'cat'),\n",
       " (30, 'cat'),\n",
       " (31, 'cat'),\n",
       " (32, 'cat'),\n",
       " (33, 'cat'),\n",
       " (34, 'cat'),\n",
       " (35, 'cat'),\n",
       " (36, 'cat'),\n",
       " (37, 'cat'),\n",
       " (38, 'cat'),\n",
       " (39, 'cat'),\n",
       " (40, 'cat'),\n",
       " (41, 'cat'),\n",
       " (42, 'cat'),\n",
       " (43, 'cat'),\n",
       " (44, 'cat'),\n",
       " (45, 'cat'),\n",
       " (46, 'cat'),\n",
       " (47, 'cat'),\n",
       " (48, 'cat'),\n",
       " (49, 'cat'),\n",
       " (50, 'cat'),\n",
       " (51, 'cat'),\n",
       " (52, 'cat'),\n",
       " (53, 'cat'),\n",
       " (54, 'cat'),\n",
       " (55, 'cat'),\n",
       " (56, 'cat'),\n",
       " (57, 'cat'),\n",
       " (58, 'cat'),\n",
       " (59, 'cat'),\n",
       " (60, 'cat'),\n",
       " (61, 'cat'),\n",
       " (62, 'cat'),\n",
       " (63, 'cat'),\n",
       " (64, 'cat'),\n",
       " (65, 'cat'),\n",
       " (66, 'cat'),\n",
       " (67, 'cat'),\n",
       " (68, 'cat'),\n",
       " (69, 'cat'),\n",
       " (70, 'cat'),\n",
       " (71, 'cat'),\n",
       " (72, 'cat'),\n",
       " (73, 'cat'),\n",
       " (74, 'cat'),\n",
       " (75, 'cat'),\n",
       " (76, 'cat'),\n",
       " (77, 'cat'),\n",
       " (78, 'cat'),\n",
       " (79, 'cat'),\n",
       " (80, 'cat'),\n",
       " (81, 'cat'),\n",
       " (82, 'cat'),\n",
       " (83, 'cat'),\n",
       " (84, 'cat'),\n",
       " (85, 'cat'),\n",
       " (86, 'cat'),\n",
       " (87, 'cat'),\n",
       " (88, 'cat'),\n",
       " (89, 'cat'),\n",
       " (90, 'cat'),\n",
       " (91, 'cat'),\n",
       " (92, 'cat'),\n",
       " (93, 'cat'),\n",
       " (94, 'cat'),\n",
       " (95, 'cat'),\n",
       " (96, 'cat'),\n",
       " (97, 'cat'),\n",
       " (98, 'cat'),\n",
       " (99, 'cat'),\n",
       " (100, 'cat'),\n",
       " (101, 'cat'),\n",
       " (102, 'cat'),\n",
       " (103, 'cat'),\n",
       " (104, 'cat'),\n",
       " (105, 'cat'),\n",
       " (106, 'cat'),\n",
       " (107, 'cat'),\n",
       " (108, 'cat'),\n",
       " (109, 'cat'),\n",
       " (110, 'cat'),\n",
       " (111, 'cat'),\n",
       " (112, 'cat'),\n",
       " (113, 'cat'),\n",
       " (114, 'cat'),\n",
       " (115, 'cat'),\n",
       " (116, 'cat'),\n",
       " (117, 'cat'),\n",
       " (118, 'cat'),\n",
       " (119, 'cat'),\n",
       " (120, 'cat'),\n",
       " (121, 'cat'),\n",
       " (122, 'cat'),\n",
       " (123, 'cat'),\n",
       " (124, 'cat'),\n",
       " (125, 'cat'),\n",
       " (126, 'cat'),\n",
       " (127, 'cat'),\n",
       " (128, 'cat'),\n",
       " (129, 'cat'),\n",
       " (130, 'cat'),\n",
       " (131, 'cat'),\n",
       " (132, 'cat'),\n",
       " (133, 'cat'),\n",
       " (134, 'cat'),\n",
       " (135, 'cat'),\n",
       " (136, 'cat'),\n",
       " (137, 'cat'),\n",
       " (138, 'cat'),\n",
       " (139, 'cat'),\n",
       " (140, 'cat'),\n",
       " (141, 'cat'),\n",
       " (142, 'cat'),\n",
       " (143, 'cat'),\n",
       " (144, 'cat'),\n",
       " (145, 'cat'),\n",
       " (146, 'cat'),\n",
       " (147, 'cat'),\n",
       " (148, 'cat'),\n",
       " (149, 'cat'),\n",
       " (150, 'cat'),\n",
       " (151, 'cat'),\n",
       " (152, 'cat'),\n",
       " (153, 'cat'),\n",
       " (154, 'cat'),\n",
       " (155, 'cat'),\n",
       " (156, 'cat'),\n",
       " (157, 'cat'),\n",
       " (158, 'cat'),\n",
       " (159, 'cat'),\n",
       " (160, 'cat'),\n",
       " (161, 'cat'),\n",
       " (162, 'cat'),\n",
       " (163, 'cat'),\n",
       " (164, 'cat'),\n",
       " (165, 'cat'),\n",
       " (166, 'cat'),\n",
       " (167, 'cat'),\n",
       " (168, 'cat'),\n",
       " (169, 'cat'),\n",
       " (170, 'cat'),\n",
       " (171, 'cat'),\n",
       " (172, 'cat'),\n",
       " (173, 'cat'),\n",
       " (174, 'cat'),\n",
       " (175, 'cat'),\n",
       " (176, 'cat'),\n",
       " (177, 'cat'),\n",
       " (178, 'cat'),\n",
       " (179, 'cat'),\n",
       " (180, 'cat'),\n",
       " (181, 'cat'),\n",
       " (182, 'cat'),\n",
       " (183, 'cat'),\n",
       " (184, 'cat'),\n",
       " (185, 'cat'),\n",
       " (186, 'cat'),\n",
       " (187, 'cat'),\n",
       " (188, 'cat'),\n",
       " (189, 'cat'),\n",
       " (190, 'cat'),\n",
       " (191, 'cat'),\n",
       " (192, 'cat'),\n",
       " (193, 'cat'),\n",
       " (194, 'cat'),\n",
       " (195, 'cat'),\n",
       " (196, 'cat'),\n",
       " (197, 'cat'),\n",
       " (198, 'cat'),\n",
       " (199, 'cat'),\n",
       " (200, 'cat'),\n",
       " (201, 'cat'),\n",
       " (202, 'cat'),\n",
       " (203, 'cat'),\n",
       " (204, 'cat'),\n",
       " (205, 'cat'),\n",
       " (206, 'cat'),\n",
       " (207, 'cat'),\n",
       " (208, 'cat'),\n",
       " (209, 'cat'),\n",
       " (210, 'cat'),\n",
       " (211, 'cat'),\n",
       " (212, 'cat'),\n",
       " (213, 'cat'),\n",
       " (214, 'cat'),\n",
       " (215, 'cat'),\n",
       " (216, 'cat'),\n",
       " (217, 'cat'),\n",
       " (218, 'cat'),\n",
       " (219, 'cat'),\n",
       " (220, 'cat'),\n",
       " (221, 'cat'),\n",
       " (222, 'cat'),\n",
       " (223, 'cat'),\n",
       " (224, 'cat'),\n",
       " (225, 'cat'),\n",
       " (226, 'cat'),\n",
       " (227, 'cat'),\n",
       " (228, 'cat'),\n",
       " (229, 'cat'),\n",
       " (230, 'cat'),\n",
       " (231, 'cat'),\n",
       " (232, 'cat'),\n",
       " (233, 'cat'),\n",
       " (234, 'cat'),\n",
       " (235, 'cat'),\n",
       " (236, 'cat'),\n",
       " (237, 'cat'),\n",
       " (238, 'cat'),\n",
       " (239, 'cat'),\n",
       " (240, 'cat'),\n",
       " (241, 'cat'),\n",
       " (242, 'cat'),\n",
       " (243, 'cat'),\n",
       " (244, 'cat'),\n",
       " (245, 'cat'),\n",
       " (246, 'cat'),\n",
       " (247, 'cat'),\n",
       " (248, 'cat'),\n",
       " (249, 'cat'),\n",
       " (250, 'cat'),\n",
       " (251, 'cat'),\n",
       " (252, 'cat'),\n",
       " (253, 'cat'),\n",
       " (254, 'cat'),\n",
       " (255, 'cat'),\n",
       " (256, 'cat'),\n",
       " (257, 'cat'),\n",
       " (258, 'cat'),\n",
       " (259, 'cat'),\n",
       " (260, 'cat'),\n",
       " (261, 'cat'),\n",
       " (262, 'cat'),\n",
       " (263, 'cat'),\n",
       " (264, 'cat'),\n",
       " (265, 'cat'),\n",
       " (266, 'cat'),\n",
       " (267, 'cat'),\n",
       " (268, 'cat'),\n",
       " (269, 'cat'),\n",
       " (270, 'cat'),\n",
       " (271, 'cat'),\n",
       " (272, 'cat'),\n",
       " (273, 'cat'),\n",
       " (274, 'cat'),\n",
       " (275, 'cat'),\n",
       " (276, 'cat'),\n",
       " (277, 'cat'),\n",
       " (278, 'cat'),\n",
       " (279, 'cat'),\n",
       " (280, 'cat'),\n",
       " (281, 'cat'),\n",
       " (282, 'cat'),\n",
       " (283, 'cat'),\n",
       " (284, 'cat'),\n",
       " (285, 'cat'),\n",
       " (286, 'cat'),\n",
       " (287, 'cat'),\n",
       " (288, 'cat'),\n",
       " (289, 'cat'),\n",
       " (290, 'cat'),\n",
       " (291, 'cat'),\n",
       " (292, 'cat'),\n",
       " (293, 'cat'),\n",
       " (294, 'cat'),\n",
       " (295, 'cat'),\n",
       " (296, 'cat'),\n",
       " (297, 'cat'),\n",
       " (298, 'cat'),\n",
       " (299, 'cat'),\n",
       " (300, 'cat'),\n",
       " (301, 'cat'),\n",
       " (302, 'cat'),\n",
       " (303, 'cat'),\n",
       " (304, 'cat'),\n",
       " (305, 'cat'),\n",
       " (306, 'cat'),\n",
       " (307, 'cat'),\n",
       " (308, 'cat'),\n",
       " (309, 'cat'),\n",
       " (310, 'cat'),\n",
       " (311, 'cat'),\n",
       " (312, 'cat'),\n",
       " (313, 'cat'),\n",
       " (314, 'cat'),\n",
       " (315, 'cat'),\n",
       " (316, 'cat'),\n",
       " (317, 'cat'),\n",
       " (318, 'cat'),\n",
       " (319, 'cat'),\n",
       " (320, 'cat'),\n",
       " (321, 'cat'),\n",
       " (322, 'cat'),\n",
       " (323, 'cat'),\n",
       " (324, 'cat'),\n",
       " (325, 'cat'),\n",
       " (326, 'cat'),\n",
       " (327, 'cat'),\n",
       " (328, 'cat'),\n",
       " (329, 'cat'),\n",
       " (330, 'cat'),\n",
       " (331, 'cat'),\n",
       " (332, 'cat'),\n",
       " (333, 'cat'),\n",
       " (334, 'cat'),\n",
       " (335, 'cat'),\n",
       " (336, 'cat'),\n",
       " (337, 'cat'),\n",
       " (338, 'cat'),\n",
       " (339, 'cat'),\n",
       " (340, 'cat'),\n",
       " (341, 'cat'),\n",
       " (342, 'cat'),\n",
       " (343, 'cat'),\n",
       " (344, 'cat'),\n",
       " (345, 'cat'),\n",
       " (346, 'cat'),\n",
       " (347, 'cat'),\n",
       " (348, 'cat'),\n",
       " (349, 'cat'),\n",
       " (350, 'cat'),\n",
       " (351, 'cat'),\n",
       " (352, 'cat'),\n",
       " (353, 'cat'),\n",
       " (354, 'cat'),\n",
       " (355, 'cat'),\n",
       " (356, 'cat'),\n",
       " (357, 'cat'),\n",
       " (358, 'cat'),\n",
       " (359, 'cat'),\n",
       " (360, 'cat'),\n",
       " (361, 'cat'),\n",
       " (362, 'cat'),\n",
       " (363, 'cat'),\n",
       " (364, 'cat'),\n",
       " (365, 'cat'),\n",
       " (366, 'cat'),\n",
       " (367, 'cat'),\n",
       " (368, 'cat'),\n",
       " (369, 'cat'),\n",
       " (370, 'cat'),\n",
       " (371, 'cat'),\n",
       " (372, 'cat'),\n",
       " (373, 'cat'),\n",
       " (374, 'cat'),\n",
       " (375, 'cat'),\n",
       " (376, 'cat'),\n",
       " (377, 'cat'),\n",
       " (378, 'cat'),\n",
       " (379, 'cat'),\n",
       " (380, 'cat'),\n",
       " (381, 'cat'),\n",
       " (382, 'cat'),\n",
       " (383, 'cat'),\n",
       " (384, 'cat'),\n",
       " (385, 'cat'),\n",
       " (386, 'cat'),\n",
       " (387, 'cat'),\n",
       " (388, 'cat'),\n",
       " (389, 'cat'),\n",
       " (390, 'cat'),\n",
       " (391, 'cat'),\n",
       " (392, 'cat'),\n",
       " (393, 'cat'),\n",
       " (394, 'cat'),\n",
       " (395, 'cat'),\n",
       " (396, 'cat'),\n",
       " (397, 'cat'),\n",
       " (398, 'cat'),\n",
       " (399, 'cat'),\n",
       " (400, 'cat'),\n",
       " (401, 'cat'),\n",
       " (402, 'cat'),\n",
       " (403, 'cat'),\n",
       " (404, 'cat'),\n",
       " (405, 'cat'),\n",
       " (406, 'cat'),\n",
       " (407, 'cat'),\n",
       " (408, 'cat'),\n",
       " (409, 'cat'),\n",
       " (410, 'cat'),\n",
       " (411, 'cat'),\n",
       " (412, 'cat'),\n",
       " (413, 'cat'),\n",
       " (414, 'cat'),\n",
       " (415, 'cat'),\n",
       " (416, 'cat'),\n",
       " (417, 'cat'),\n",
       " (418, 'cat'),\n",
       " (419, 'cat'),\n",
       " (420, 'cat'),\n",
       " (421, 'cat'),\n",
       " (422, 'cat'),\n",
       " (423, 'cat'),\n",
       " (424, 'cat'),\n",
       " (425, 'cat'),\n",
       " (426, 'cat'),\n",
       " (427, 'cat'),\n",
       " (428, 'cat'),\n",
       " (429, 'cat'),\n",
       " (430, 'cat'),\n",
       " (431, 'cat'),\n",
       " (432, 'cat'),\n",
       " (433, 'cat'),\n",
       " (434, 'cat'),\n",
       " (435, 'cat'),\n",
       " (436, 'cat'),\n",
       " (437, 'cat'),\n",
       " (438, 'cat'),\n",
       " (439, 'cat'),\n",
       " (440, 'cat'),\n",
       " (441, 'cat'),\n",
       " (442, 'cat'),\n",
       " (443, 'cat'),\n",
       " (444, 'cat'),\n",
       " (445, 'cat'),\n",
       " (446, 'cat'),\n",
       " (447, 'cat'),\n",
       " (448, 'cat'),\n",
       " (449, 'cat'),\n",
       " (450, 'cat'),\n",
       " (451, 'cat'),\n",
       " (452, 'cat'),\n",
       " (453, 'cat'),\n",
       " (454, 'cat'),\n",
       " (455, 'cat'),\n",
       " (456, 'cat'),\n",
       " (457, 'cat'),\n",
       " (458, 'cat'),\n",
       " (459, 'cat'),\n",
       " (460, 'cat'),\n",
       " (461, 'cat'),\n",
       " (462, 'cat'),\n",
       " (463, 'cat'),\n",
       " (464, 'cat'),\n",
       " (465, 'cat'),\n",
       " (466, 'cat'),\n",
       " (467, 'cat'),\n",
       " (468, 'cat'),\n",
       " (469, 'cat'),\n",
       " (470, 'cat'),\n",
       " (471, 'cat'),\n",
       " (472, 'cat'),\n",
       " (473, 'cat'),\n",
       " (474, 'cat'),\n",
       " (475, 'cat'),\n",
       " (476, 'cat'),\n",
       " (477, 'cat'),\n",
       " (478, 'cat'),\n",
       " (479, 'cat'),\n",
       " (480, 'cat'),\n",
       " (481, 'cat'),\n",
       " (482, 'cat'),\n",
       " (483, 'cat'),\n",
       " (484, 'cat'),\n",
       " (485, 'cat'),\n",
       " (486, 'cat'),\n",
       " (487, 'cat'),\n",
       " (488, 'cat'),\n",
       " (489, 'cat'),\n",
       " (490, 'cat'),\n",
       " (491, 'cat'),\n",
       " (492, 'cat'),\n",
       " (493, 'cat'),\n",
       " (494, 'cat'),\n",
       " (495, 'cat'),\n",
       " (496, 'cat'),\n",
       " (497, 'cat'),\n",
       " (498, 'cat'),\n",
       " (499, 'cat'),\n",
       " (500, 'cat'),\n",
       " (501, 'cat'),\n",
       " (502, 'cat'),\n",
       " (503, 'cat'),\n",
       " (504, 'cat'),\n",
       " (505, 'cat'),\n",
       " (506, 'cat'),\n",
       " (507, 'cat'),\n",
       " (508, 'cat'),\n",
       " (509, 'cat'),\n",
       " (510, 'cat'),\n",
       " (511, 'cat'),\n",
       " (512, 'cat'),\n",
       " (513, 'cat'),\n",
       " (514, 'cat'),\n",
       " (515, 'cat'),\n",
       " (516, 'cat'),\n",
       " (517, 'cat'),\n",
       " (518, 'cat'),\n",
       " (519, 'cat'),\n",
       " (520, 'cat'),\n",
       " (521, 'cat'),\n",
       " (522, 'cat'),\n",
       " (523, 'cat'),\n",
       " (524, 'cat'),\n",
       " (525, 'cat'),\n",
       " (526, 'cat'),\n",
       " (527, 'cat'),\n",
       " (528, 'cat'),\n",
       " (529, 'cat'),\n",
       " (530, 'cat'),\n",
       " (531, 'cat'),\n",
       " (532, 'cat'),\n",
       " (533, 'cat'),\n",
       " (534, 'cat'),\n",
       " (535, 'cat'),\n",
       " (536, 'cat'),\n",
       " (537, 'cat'),\n",
       " (538, 'cat'),\n",
       " (539, 'cat'),\n",
       " (540, 'cat'),\n",
       " (541, 'cat'),\n",
       " (542, 'cat'),\n",
       " (543, 'cat'),\n",
       " (544, 'cat'),\n",
       " (545, 'cat'),\n",
       " (546, 'cat'),\n",
       " (547, 'cat'),\n",
       " (548, 'cat'),\n",
       " (549, 'cat'),\n",
       " (550, 'cat'),\n",
       " (551, 'cat'),\n",
       " (552, 'cat'),\n",
       " (553, 'cat'),\n",
       " (554, 'cat'),\n",
       " (555, 'cat'),\n",
       " (556, 'cat'),\n",
       " (557, 'cat'),\n",
       " (558, 'cat'),\n",
       " (559, 'cat'),\n",
       " (560, 'cat'),\n",
       " (561, 'cat'),\n",
       " (562, 'cat'),\n",
       " (563, 'cat'),\n",
       " (564, 'cat'),\n",
       " (565, 'cat'),\n",
       " (566, 'cat'),\n",
       " (567, 'cat'),\n",
       " (568, 'cat'),\n",
       " (569, 'cat'),\n",
       " (570, 'cat'),\n",
       " (571, 'cat'),\n",
       " (572, 'cat'),\n",
       " (573, 'cat'),\n",
       " (574, 'cat'),\n",
       " (575, 'cat'),\n",
       " (576, 'cat'),\n",
       " (577, 'cat'),\n",
       " (578, 'cat'),\n",
       " (579, 'cat'),\n",
       " (580, 'cat'),\n",
       " (581, 'cat'),\n",
       " (582, 'cat'),\n",
       " (583, 'cat'),\n",
       " (584, 'cat'),\n",
       " (585, 'cat'),\n",
       " (586, 'cat'),\n",
       " (587, 'cat'),\n",
       " (588, 'cat'),\n",
       " (589, 'cat'),\n",
       " (590, 'cat'),\n",
       " (591, 'cat'),\n",
       " (592, 'cat'),\n",
       " (593, 'cat'),\n",
       " (594, 'cat'),\n",
       " (595, 'cat'),\n",
       " (596, 'cat'),\n",
       " (597, 'cat'),\n",
       " (598, 'cat'),\n",
       " (599, 'cat'),\n",
       " (600, 'cat'),\n",
       " (601, 'cat'),\n",
       " (602, 'cat'),\n",
       " (603, 'cat'),\n",
       " (604, 'cat'),\n",
       " (605, 'cat'),\n",
       " (606, 'cat'),\n",
       " (607, 'cat'),\n",
       " (608, 'cat'),\n",
       " (609, 'cat'),\n",
       " (610, 'cat'),\n",
       " (611, 'cat'),\n",
       " (612, 'cat'),\n",
       " (613, 'cat'),\n",
       " (614, 'cat'),\n",
       " (615, 'cat'),\n",
       " (616, 'cat'),\n",
       " (617, 'cat'),\n",
       " (618, 'cat'),\n",
       " (619, 'cat'),\n",
       " (620, 'cat'),\n",
       " (621, 'cat'),\n",
       " (622, 'cat'),\n",
       " (623, 'cat'),\n",
       " (624, 'cat'),\n",
       " (625, 'cat'),\n",
       " (626, 'cat'),\n",
       " (627, 'cat'),\n",
       " (628, 'cat'),\n",
       " (629, 'cat'),\n",
       " (630, 'cat'),\n",
       " (631, 'cat'),\n",
       " (632, 'cat'),\n",
       " (633, 'cat'),\n",
       " (634, 'cat'),\n",
       " (635, 'cat'),\n",
       " (636, 'cat'),\n",
       " (637, 'cat'),\n",
       " (638, 'cat'),\n",
       " (639, 'cat'),\n",
       " (640, 'cat'),\n",
       " (641, 'cat'),\n",
       " (642, 'cat'),\n",
       " (643, 'cat'),\n",
       " (644, 'cat'),\n",
       " (645, 'cat'),\n",
       " (646, 'cat'),\n",
       " (647, 'cat'),\n",
       " (648, 'cat'),\n",
       " (649, 'cat'),\n",
       " (650, 'cat'),\n",
       " (651, 'cat'),\n",
       " (652, 'cat'),\n",
       " (653, 'cat'),\n",
       " (654, 'cat'),\n",
       " (655, 'cat'),\n",
       " (656, 'cat'),\n",
       " (657, 'cat'),\n",
       " (658, 'cat'),\n",
       " (659, 'cat'),\n",
       " (660, 'cat'),\n",
       " (661, 'cat'),\n",
       " (662, 'cat'),\n",
       " (663, 'cat'),\n",
       " (664, 'cat'),\n",
       " (665, 'cat'),\n",
       " (666, 'cat'),\n",
       " (667, 'cat'),\n",
       " (668, 'cat'),\n",
       " (669, 'cat'),\n",
       " (670, 'cat'),\n",
       " (671, 'cat'),\n",
       " (672, 'cat'),\n",
       " (673, 'cat'),\n",
       " (674, 'cat'),\n",
       " (675, 'cat'),\n",
       " (676, 'cat'),\n",
       " (677, 'cat'),\n",
       " (678, 'cat'),\n",
       " (679, 'cat'),\n",
       " (680, 'cat'),\n",
       " (681, 'cat'),\n",
       " (682, 'cat'),\n",
       " (683, 'cat'),\n",
       " (684, 'cat'),\n",
       " (685, 'cat'),\n",
       " (686, 'cat'),\n",
       " (687, 'cat'),\n",
       " (688, 'cat'),\n",
       " (689, 'cat'),\n",
       " (690, 'cat'),\n",
       " (691, 'cat'),\n",
       " (692, 'cat'),\n",
       " (693, 'cat'),\n",
       " (694, 'cat'),\n",
       " (695, 'cat'),\n",
       " (696, 'cat'),\n",
       " (697, 'cat'),\n",
       " (698, 'cat'),\n",
       " (699, 'cat'),\n",
       " (700, 'cat'),\n",
       " (701, 'cat'),\n",
       " (702, 'cat'),\n",
       " (703, 'cat'),\n",
       " (704, 'cat'),\n",
       " (705, 'cat'),\n",
       " (706, 'cat'),\n",
       " (707, 'cat'),\n",
       " (708, 'cat'),\n",
       " (709, 'cat'),\n",
       " (710, 'cat'),\n",
       " (711, 'cat'),\n",
       " (712, 'cat'),\n",
       " (713, 'cat'),\n",
       " (714, 'cat'),\n",
       " (715, 'cat'),\n",
       " (716, 'cat'),\n",
       " (717, 'cat'),\n",
       " (718, 'cat'),\n",
       " (719, 'cat'),\n",
       " (720, 'cat'),\n",
       " (721, 'cat'),\n",
       " (722, 'cat'),\n",
       " (723, 'cat'),\n",
       " (724, 'cat'),\n",
       " (725, 'cat'),\n",
       " (726, 'cat'),\n",
       " (727, 'cat'),\n",
       " (728, 'cat'),\n",
       " (729, 'cat'),\n",
       " (730, 'cat'),\n",
       " (731, 'cat'),\n",
       " (732, 'cat'),\n",
       " (733, 'cat'),\n",
       " (734, 'cat'),\n",
       " (735, 'cat'),\n",
       " (736, 'cat'),\n",
       " (737, 'cat'),\n",
       " (738, 'cat'),\n",
       " (739, 'cat'),\n",
       " (740, 'cat'),\n",
       " (741, 'cat'),\n",
       " (742, 'cat'),\n",
       " (743, 'cat'),\n",
       " (744, 'cat'),\n",
       " (745, 'cat'),\n",
       " (746, 'cat'),\n",
       " (747, 'cat'),\n",
       " (748, 'cat'),\n",
       " (749, 'cat'),\n",
       " (750, 'cat'),\n",
       " (751, 'cat'),\n",
       " (752, 'cat'),\n",
       " (753, 'cat'),\n",
       " (754, 'cat'),\n",
       " (755, 'cat'),\n",
       " (756, 'cat'),\n",
       " (757, 'cat'),\n",
       " (758, 'cat'),\n",
       " (759, 'cat'),\n",
       " (760, 'cat'),\n",
       " (761, 'cat'),\n",
       " (762, 'cat'),\n",
       " (763, 'cat'),\n",
       " (764, 'cat'),\n",
       " (765, 'cat'),\n",
       " (766, 'cat'),\n",
       " (767, 'cat'),\n",
       " (768, 'cat'),\n",
       " (769, 'cat'),\n",
       " (770, 'cat'),\n",
       " (771, 'cat'),\n",
       " (772, 'cat'),\n",
       " (773, 'cat'),\n",
       " (774, 'cat'),\n",
       " (775, 'cat'),\n",
       " (776, 'cat'),\n",
       " (777, 'cat'),\n",
       " (778, 'cat'),\n",
       " (779, 'cat'),\n",
       " (780, 'cat'),\n",
       " (781, 'cat'),\n",
       " (782, 'cat'),\n",
       " (783, 'cat'),\n",
       " (784, 'cat'),\n",
       " (785, 'cat'),\n",
       " (786, 'cat'),\n",
       " (787, 'cat'),\n",
       " (788, 'cat'),\n",
       " (789, 'cat'),\n",
       " (790, 'cat'),\n",
       " (791, 'cat'),\n",
       " (792, 'cat'),\n",
       " (793, 'cat'),\n",
       " (794, 'cat'),\n",
       " (795, 'cat'),\n",
       " (796, 'cat'),\n",
       " (797, 'cat'),\n",
       " (798, 'cat'),\n",
       " (799, 'cat'),\n",
       " (800, 'cat'),\n",
       " (801, 'cat'),\n",
       " (802, 'cat'),\n",
       " (803, 'cat'),\n",
       " (804, 'cat'),\n",
       " (805, 'cat'),\n",
       " (806, 'cat'),\n",
       " (807, 'cat'),\n",
       " (808, 'cat'),\n",
       " (809, 'cat'),\n",
       " (810, 'cat'),\n",
       " (811, 'cat'),\n",
       " (812, 'cat'),\n",
       " (813, 'cat'),\n",
       " (814, 'cat'),\n",
       " (815, 'cat'),\n",
       " (816, 'cat'),\n",
       " (817, 'cat'),\n",
       " (818, 'cat'),\n",
       " (819, 'cat'),\n",
       " (820, 'cat'),\n",
       " (821, 'cat'),\n",
       " (822, 'cat'),\n",
       " (823, 'cat'),\n",
       " (824, 'cat'),\n",
       " (825, 'cat'),\n",
       " (826, 'cat'),\n",
       " (827, 'cat'),\n",
       " (828, 'cat'),\n",
       " (829, 'cat'),\n",
       " (830, 'cat'),\n",
       " (831, 'cat'),\n",
       " (832, 'cat'),\n",
       " (833, 'cat'),\n",
       " (834, 'cat'),\n",
       " (835, 'cat'),\n",
       " (836, 'cat'),\n",
       " (837, 'cat'),\n",
       " (838, 'cat'),\n",
       " (839, 'cat'),\n",
       " (840, 'cat'),\n",
       " (841, 'cat'),\n",
       " (842, 'cat'),\n",
       " (843, 'cat'),\n",
       " (844, 'cat'),\n",
       " (845, 'cat'),\n",
       " (846, 'cat'),\n",
       " (847, 'cat'),\n",
       " (848, 'cat'),\n",
       " (849, 'cat'),\n",
       " (850, 'cat'),\n",
       " (851, 'cat'),\n",
       " (852, 'cat'),\n",
       " (853, 'cat'),\n",
       " (854, 'cat'),\n",
       " (855, 'cat'),\n",
       " (856, 'cat'),\n",
       " (857, 'cat'),\n",
       " (858, 'cat'),\n",
       " (859, 'cat'),\n",
       " (860, 'cat'),\n",
       " (861, 'cat'),\n",
       " (862, 'cat'),\n",
       " (863, 'cat'),\n",
       " (864, 'cat'),\n",
       " (865, 'cat'),\n",
       " (866, 'cat'),\n",
       " (867, 'cat'),\n",
       " (868, 'cat'),\n",
       " (869, 'cat'),\n",
       " (870, 'cat'),\n",
       " (871, 'cat'),\n",
       " (872, 'cat'),\n",
       " (873, 'cat'),\n",
       " (874, 'cat'),\n",
       " (875, 'cat'),\n",
       " (876, 'cat'),\n",
       " (877, 'cat'),\n",
       " (878, 'cat'),\n",
       " (879, 'cat'),\n",
       " (880, 'cat'),\n",
       " (881, 'cat'),\n",
       " (882, 'cat'),\n",
       " (883, 'cat'),\n",
       " (884, 'cat'),\n",
       " (885, 'cat'),\n",
       " (886, 'cat'),\n",
       " (887, 'cat'),\n",
       " (888, 'cat'),\n",
       " (889, 'cat'),\n",
       " (890, 'cat'),\n",
       " (891, 'cat'),\n",
       " (892, 'cat'),\n",
       " (893, 'cat'),\n",
       " (894, 'cat'),\n",
       " (895, 'cat'),\n",
       " (896, 'cat'),\n",
       " (897, 'cat'),\n",
       " (898, 'cat'),\n",
       " (899, 'cat'),\n",
       " (900, 'cat'),\n",
       " (901, 'cat'),\n",
       " (902, 'cat'),\n",
       " (903, 'cat'),\n",
       " (904, 'cat'),\n",
       " (905, 'cat'),\n",
       " (906, 'cat'),\n",
       " (907, 'cat'),\n",
       " (908, 'cat'),\n",
       " (909, 'cat'),\n",
       " (910, 'cat'),\n",
       " (911, 'cat'),\n",
       " (912, 'cat'),\n",
       " (913, 'cat'),\n",
       " (914, 'cat'),\n",
       " (915, 'cat'),\n",
       " (916, 'cat'),\n",
       " (917, 'cat'),\n",
       " (918, 'cat'),\n",
       " (919, 'cat'),\n",
       " (920, 'cat'),\n",
       " (921, 'cat'),\n",
       " (922, 'cat'),\n",
       " (923, 'cat'),\n",
       " (924, 'cat'),\n",
       " (925, 'cat'),\n",
       " (926, 'cat'),\n",
       " (927, 'cat'),\n",
       " (928, 'cat'),\n",
       " (929, 'cat'),\n",
       " (930, 'cat'),\n",
       " (931, 'cat'),\n",
       " (932, 'cat'),\n",
       " (933, 'cat'),\n",
       " (934, 'cat'),\n",
       " (935, 'cat'),\n",
       " (936, 'cat'),\n",
       " (937, 'cat'),\n",
       " (938, 'cat'),\n",
       " (939, 'cat'),\n",
       " (940, 'cat'),\n",
       " (941, 'cat'),\n",
       " (942, 'cat'),\n",
       " (943, 'cat'),\n",
       " (944, 'cat'),\n",
       " (945, 'cat'),\n",
       " (946, 'cat'),\n",
       " (947, 'cat'),\n",
       " (948, 'cat'),\n",
       " (949, 'cat'),\n",
       " (950, 'cat'),\n",
       " (951, 'cat'),\n",
       " (952, 'cat'),\n",
       " (953, 'cat'),\n",
       " (954, 'cat'),\n",
       " (955, 'cat'),\n",
       " (956, 'cat'),\n",
       " (957, 'cat'),\n",
       " (958, 'cat'),\n",
       " (959, 'cat'),\n",
       " (960, 'cat'),\n",
       " (961, 'cat'),\n",
       " (962, 'cat'),\n",
       " (963, 'cat'),\n",
       " (964, 'cat'),\n",
       " (965, 'cat'),\n",
       " (966, 'cat'),\n",
       " (967, 'cat'),\n",
       " (968, 'cat'),\n",
       " (969, 'cat'),\n",
       " (970, 'cat'),\n",
       " (971, 'cat'),\n",
       " (972, 'cat'),\n",
       " (973, 'cat'),\n",
       " (974, 'cat'),\n",
       " (975, 'cat'),\n",
       " (976, 'cat'),\n",
       " (977, 'cat'),\n",
       " (978, 'cat'),\n",
       " (979, 'cat'),\n",
       " (980, 'cat'),\n",
       " (981, 'cat'),\n",
       " (982, 'cat'),\n",
       " (983, 'cat'),\n",
       " (984, 'cat'),\n",
       " (985, 'cat'),\n",
       " (986, 'cat'),\n",
       " (987, 'cat'),\n",
       " (988, 'cat'),\n",
       " (989, 'cat'),\n",
       " (990, 'cat'),\n",
       " (991, 'cat'),\n",
       " (992, 'cat'),\n",
       " (993, 'cat'),\n",
       " (994, 'cat'),\n",
       " (995, 'cat'),\n",
       " (996, 'cat'),\n",
       " (997, 'cat'),\n",
       " (998, 'cat'),\n",
       " (999, 'cat'),\n",
       " (1000, 'cat'),\n",
       " ...]"
      ]
     },
     "execution_count": 44,
     "metadata": {},
     "output_type": "execute_result"
    }
   ],
   "source": [
    "solution"
   ]
  },
  {
   "cell_type": "code",
   "execution_count": 47,
   "metadata": {},
   "outputs": [],
   "source": [
    "with open('solution.csv', 'w') as f:\n",
    "    writer = csv.writer(f)\n",
    "    writer.writerow(('id', 'label'))\n",
    "    writer.writerows(solution)"
   ]
  },
  {
   "cell_type": "code",
   "execution_count": null,
   "metadata": {
    "collapsed": true
   },
   "outputs": [],
   "source": []
  }
 ],
 "metadata": {
  "kernelspec": {
   "display_name": "Python 3",
   "language": "python",
   "name": "python3"
  },
  "language_info": {
   "codemirror_mode": {
    "name": "ipython",
    "version": 3
   },
   "file_extension": ".py",
   "mimetype": "text/x-python",
   "name": "python",
   "nbconvert_exporter": "python",
   "pygments_lexer": "ipython3",
   "version": "3.6.2"
  }
 },
 "nbformat": 4,
 "nbformat_minor": 2
}
