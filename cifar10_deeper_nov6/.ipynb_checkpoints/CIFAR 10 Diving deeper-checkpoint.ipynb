{
 "cells": [
  {
   "cell_type": "markdown",
   "metadata": {},
   "source": [
    "# MLDS Workshop: Logistic Regression, Convulutions, PCA\n",
    "\n",
    "Welcome to our second dive into CIFAR-10! Today, we will be bringing a lot of things together, to help you tackle the CIFAR-10 challenge. Let's start off with a review of K-nearest neighbors, which is what we talked about last time. Today, we will use skikit-learn, one of the most popular Python libraries for Machine Learning in Python. This was created by David Cournapeau as part of Google Summer of Code. For illustrative purposes, we will be using the iris dataset, which is a fairly small dataset about flowers which comes bundled in with scikit-learn."
   ]
  },
  {
   "cell_type": "code",
   "execution_count": 23,
   "metadata": {},
   "outputs": [
    {
     "name": "stdout",
     "output_type": "stream",
     "text": [
      "Requirement already satisfied: scikit-learn in /Users/Air7/anaconda3/lib/python3.6/site-packages\r\n"
     ]
    }
   ],
   "source": [
    "# Useful for seeing the matplotlib graphs within the notebook\n",
    "%matplotlib inline\n",
    "\n",
    "# Installing scikit-learn if you don't already have it\n",
    "!pip install scikit-learn\n",
    "\n",
    "# Some libraries that we will be using today\n",
    "import numpy as np\n",
    "import matplotlib.pyplot as plt\n",
    "import pandas as pd\n",
    "from matplotlib.colors import ListedColormap\n",
    "from sklearn import neighbors, datasets\n",
    "from sklearn.model_selection import train_test_split\n",
    "from scipy import misc\n",
    "from sklearn.linear_model import SGDClassifier"
   ]
  },
  {
   "cell_type": "markdown",
   "metadata": {},
   "source": [
    "Let's start off by getting the data. Again, we will use iris dataset. From scikit's website,\n",
    "\n",
    "\"This data sets consists of 3 different types of irises’ (Setosa, Versicolour, and Virginica) petal and sepal length, stored in a 150x4 numpy.ndarray\n",
    "The rows being the samples and the columns being: Sepal Length, Sepal Width, Petal Length and Petal Width.\"\n",
    "\n",
    "However, we will only use sepal length and sepal width, because 2-D plots are easier to understand."
   ]
  },
  {
   "cell_type": "code",
   "execution_count": 2,
   "metadata": {
    "collapsed": true
   },
   "outputs": [],
   "source": [
    "# import some data to play with\n",
    "iris = datasets.load_iris()\n",
    "\n",
    "# In Machine Learning community, what we know is often written as \"X\" and\n",
    "# what we are trying to predict is often wrtiten as \"y\"\n",
    "X = iris.data[:, :2]\n",
    "y = iris.target"
   ]
  },
  {
   "cell_type": "markdown",
   "metadata": {},
   "source": [
    "Let's see what the look like"
   ]
  },
  {
   "cell_type": "code",
   "execution_count": 3,
   "metadata": {},
   "outputs": [
    {
     "data": {
      "text/plain": [
       "array([[ 5.1,  3.5],\n",
       "       [ 4.9,  3. ],\n",
       "       [ 4.7,  3.2],\n",
       "       [ 4.6,  3.1],\n",
       "       [ 5. ,  3.6],\n",
       "       [ 5.4,  3.9],\n",
       "       [ 4.6,  3.4],\n",
       "       [ 5. ,  3.4],\n",
       "       [ 4.4,  2.9],\n",
       "       [ 4.9,  3.1],\n",
       "       [ 5.4,  3.7],\n",
       "       [ 4.8,  3.4],\n",
       "       [ 4.8,  3. ],\n",
       "       [ 4.3,  3. ],\n",
       "       [ 5.8,  4. ],\n",
       "       [ 5.7,  4.4],\n",
       "       [ 5.4,  3.9],\n",
       "       [ 5.1,  3.5],\n",
       "       [ 5.7,  3.8],\n",
       "       [ 5.1,  3.8],\n",
       "       [ 5.4,  3.4],\n",
       "       [ 5.1,  3.7],\n",
       "       [ 4.6,  3.6],\n",
       "       [ 5.1,  3.3],\n",
       "       [ 4.8,  3.4],\n",
       "       [ 5. ,  3. ],\n",
       "       [ 5. ,  3.4],\n",
       "       [ 5.2,  3.5],\n",
       "       [ 5.2,  3.4],\n",
       "       [ 4.7,  3.2],\n",
       "       [ 4.8,  3.1],\n",
       "       [ 5.4,  3.4],\n",
       "       [ 5.2,  4.1],\n",
       "       [ 5.5,  4.2],\n",
       "       [ 4.9,  3.1],\n",
       "       [ 5. ,  3.2],\n",
       "       [ 5.5,  3.5],\n",
       "       [ 4.9,  3.1],\n",
       "       [ 4.4,  3. ],\n",
       "       [ 5.1,  3.4],\n",
       "       [ 5. ,  3.5],\n",
       "       [ 4.5,  2.3],\n",
       "       [ 4.4,  3.2],\n",
       "       [ 5. ,  3.5],\n",
       "       [ 5.1,  3.8],\n",
       "       [ 4.8,  3. ],\n",
       "       [ 5.1,  3.8],\n",
       "       [ 4.6,  3.2],\n",
       "       [ 5.3,  3.7],\n",
       "       [ 5. ,  3.3],\n",
       "       [ 7. ,  3.2],\n",
       "       [ 6.4,  3.2],\n",
       "       [ 6.9,  3.1],\n",
       "       [ 5.5,  2.3],\n",
       "       [ 6.5,  2.8],\n",
       "       [ 5.7,  2.8],\n",
       "       [ 6.3,  3.3],\n",
       "       [ 4.9,  2.4],\n",
       "       [ 6.6,  2.9],\n",
       "       [ 5.2,  2.7],\n",
       "       [ 5. ,  2. ],\n",
       "       [ 5.9,  3. ],\n",
       "       [ 6. ,  2.2],\n",
       "       [ 6.1,  2.9],\n",
       "       [ 5.6,  2.9],\n",
       "       [ 6.7,  3.1],\n",
       "       [ 5.6,  3. ],\n",
       "       [ 5.8,  2.7],\n",
       "       [ 6.2,  2.2],\n",
       "       [ 5.6,  2.5],\n",
       "       [ 5.9,  3.2],\n",
       "       [ 6.1,  2.8],\n",
       "       [ 6.3,  2.5],\n",
       "       [ 6.1,  2.8],\n",
       "       [ 6.4,  2.9],\n",
       "       [ 6.6,  3. ],\n",
       "       [ 6.8,  2.8],\n",
       "       [ 6.7,  3. ],\n",
       "       [ 6. ,  2.9],\n",
       "       [ 5.7,  2.6],\n",
       "       [ 5.5,  2.4],\n",
       "       [ 5.5,  2.4],\n",
       "       [ 5.8,  2.7],\n",
       "       [ 6. ,  2.7],\n",
       "       [ 5.4,  3. ],\n",
       "       [ 6. ,  3.4],\n",
       "       [ 6.7,  3.1],\n",
       "       [ 6.3,  2.3],\n",
       "       [ 5.6,  3. ],\n",
       "       [ 5.5,  2.5],\n",
       "       [ 5.5,  2.6],\n",
       "       [ 6.1,  3. ],\n",
       "       [ 5.8,  2.6],\n",
       "       [ 5. ,  2.3],\n",
       "       [ 5.6,  2.7],\n",
       "       [ 5.7,  3. ],\n",
       "       [ 5.7,  2.9],\n",
       "       [ 6.2,  2.9],\n",
       "       [ 5.1,  2.5],\n",
       "       [ 5.7,  2.8],\n",
       "       [ 6.3,  3.3],\n",
       "       [ 5.8,  2.7],\n",
       "       [ 7.1,  3. ],\n",
       "       [ 6.3,  2.9],\n",
       "       [ 6.5,  3. ],\n",
       "       [ 7.6,  3. ],\n",
       "       [ 4.9,  2.5],\n",
       "       [ 7.3,  2.9],\n",
       "       [ 6.7,  2.5],\n",
       "       [ 7.2,  3.6],\n",
       "       [ 6.5,  3.2],\n",
       "       [ 6.4,  2.7],\n",
       "       [ 6.8,  3. ],\n",
       "       [ 5.7,  2.5],\n",
       "       [ 5.8,  2.8],\n",
       "       [ 6.4,  3.2],\n",
       "       [ 6.5,  3. ],\n",
       "       [ 7.7,  3.8],\n",
       "       [ 7.7,  2.6],\n",
       "       [ 6. ,  2.2],\n",
       "       [ 6.9,  3.2],\n",
       "       [ 5.6,  2.8],\n",
       "       [ 7.7,  2.8],\n",
       "       [ 6.3,  2.7],\n",
       "       [ 6.7,  3.3],\n",
       "       [ 7.2,  3.2],\n",
       "       [ 6.2,  2.8],\n",
       "       [ 6.1,  3. ],\n",
       "       [ 6.4,  2.8],\n",
       "       [ 7.2,  3. ],\n",
       "       [ 7.4,  2.8],\n",
       "       [ 7.9,  3.8],\n",
       "       [ 6.4,  2.8],\n",
       "       [ 6.3,  2.8],\n",
       "       [ 6.1,  2.6],\n",
       "       [ 7.7,  3. ],\n",
       "       [ 6.3,  3.4],\n",
       "       [ 6.4,  3.1],\n",
       "       [ 6. ,  3. ],\n",
       "       [ 6.9,  3.1],\n",
       "       [ 6.7,  3.1],\n",
       "       [ 6.9,  3.1],\n",
       "       [ 5.8,  2.7],\n",
       "       [ 6.8,  3.2],\n",
       "       [ 6.7,  3.3],\n",
       "       [ 6.7,  3. ],\n",
       "       [ 6.3,  2.5],\n",
       "       [ 6.5,  3. ],\n",
       "       [ 6.2,  3.4],\n",
       "       [ 5.9,  3. ]])"
      ]
     },
     "execution_count": 3,
     "metadata": {},
     "output_type": "execute_result"
    }
   ],
   "source": [
    "X # We are using 2 features"
   ]
  },
  {
   "cell_type": "code",
   "execution_count": 4,
   "metadata": {},
   "outputs": [
    {
     "data": {
      "text/plain": [
       "array([0, 0, 0, 0, 0, 0, 0, 0, 0, 0, 0, 0, 0, 0, 0, 0, 0, 0, 0, 0, 0, 0, 0,\n",
       "       0, 0, 0, 0, 0, 0, 0, 0, 0, 0, 0, 0, 0, 0, 0, 0, 0, 0, 0, 0, 0, 0, 0,\n",
       "       0, 0, 0, 0, 1, 1, 1, 1, 1, 1, 1, 1, 1, 1, 1, 1, 1, 1, 1, 1, 1, 1, 1,\n",
       "       1, 1, 1, 1, 1, 1, 1, 1, 1, 1, 1, 1, 1, 1, 1, 1, 1, 1, 1, 1, 1, 1, 1,\n",
       "       1, 1, 1, 1, 1, 1, 1, 1, 2, 2, 2, 2, 2, 2, 2, 2, 2, 2, 2, 2, 2, 2, 2,\n",
       "       2, 2, 2, 2, 2, 2, 2, 2, 2, 2, 2, 2, 2, 2, 2, 2, 2, 2, 2, 2, 2, 2, 2,\n",
       "       2, 2, 2, 2, 2, 2, 2, 2, 2, 2, 2, 2])"
      ]
     },
     "execution_count": 4,
     "metadata": {},
     "output_type": "execute_result"
    }
   ],
   "source": [
    "y # We have 3 kinds of flowers"
   ]
  },
  {
   "cell_type": "markdown",
   "metadata": {},
   "source": [
    "Again, let us start with a brief review of k-nearest neighbors. It is the strategy where we look at \"k\" neighbors closest to us, and choose the label which is most frequent among them. Last time, someone asked a question about ties. Let's illustrate one way to deal with them. Instead of having the top k neighbors simply vote, we can weight their votes by distance from our point. This is what this first set of plots is showing."
   ]
  },
  {
   "cell_type": "code",
   "execution_count": 5,
   "metadata": {},
   "outputs": [
    {
     "data": {
      "image/png": "[encoded data removed]",
      "text/plain": [
       "<matplotlib.figure.Figure at 0x103e9b828>"
      ]
     },
     "metadata": {},
     "output_type": "display_data"
    },
    {
     "data": {
      "image/png": "[encoded data removed]",
      "text/plain": [
       "<matplotlib.figure.Figure at 0x112e4eda0>"
      ]
     },
     "metadata": {},
     "output_type": "display_data"
    }
   ],
   "source": [
    "n_neighbors = 15  # We will do k-nearest neighbors, with k=15\n",
    "\n",
    "# Next 3 lines are for matplotlib magic\n",
    "h = .02  # step size in the mesh\n",
    "cmap_light = ListedColormap(['#FFAAAA', '#AAFFAA', '#AAAAFF'])\n",
    "cmap_bold = ListedColormap(['#FF0000', '#00FF00', '#0000FF'])\n",
    "\n",
    "for weights in ['uniform', 'distance']: # Uniform = just voting, distance = weigh by distance\n",
    "    # we create an instance of Neighbours Classifier and fit the data.\n",
    "    clf = neighbors.KNeighborsClassifier(n_neighbors, weights=weights) # This is usually how you use sklearn models\n",
    "    clf.fit(X, y) # Training on our data. X could have had many more columns and have been fine\n",
    "\n",
    "    # Plot the decision boundary. For that, we will assign a color to each\n",
    "    # point in the mesh [x_min, x_max]x[y_min, y_max].\n",
    "    x_min, x_max = X[:, 0].min() - 1, X[:, 0].max() + 1\n",
    "    y_min, y_max = X[:, 1].min() - 1, X[:, 1].max() + 1\n",
    "    xx, yy = np.meshgrid(np.arange(x_min, x_max, h),\n",
    "                         np.arange(y_min, y_max, h)) # Create a 2-D mesh (don't worry too much about this)\n",
    "    Z = clf.predict(np.c_[xx.ravel(), yy.ravel()]) # Predict for each point in our mesh\n",
    "\n",
    "    # Put the result into a color plot\n",
    "    Z = Z.reshape(xx.shape)\n",
    "    plt.figure()\n",
    "    plt.pcolormesh(xx, yy, Z, cmap=cmap_light)\n",
    "\n",
    "    # Plot also the training points\n",
    "    plt.scatter(X[:, 0], X[:, 1], c=y, cmap=cmap_bold,\n",
    "                edgecolor='k', s=20)\n",
    "    plt.xlim(xx.min(), xx.max())\n",
    "    plt.ylim(yy.min(), yy.max())\n",
    "    plt.title(\"3-Class classification (k = %i, weights = '%s')\"\n",
    "              % (n_neighbors, weights))\n",
    "\n",
    "plt.show()"
   ]
  },
  {
   "cell_type": "markdown",
   "metadata": {},
   "source": [
    "There is a lot of matplotlib magic up there, but really, the interesting lines of code are:\n",
    "\n",
    "```\n",
    "clf = neighbors.KNeighborsClassifier(n_neighbors, weights=weights) # This is usually how you use sklearn models\n",
    "clf.fit(X, y) # Training on our data. X could have had many more columns and have been fine\n",
    "Z = clf.predict(np.c_[xx.ravel(), yy.ravel()]) # Predict for each point in our mesh\n",
    "```"
   ]
  },
  {
   "cell_type": "code",
   "execution_count": 6,
   "metadata": {},
   "outputs": [
    {
     "data": {
      "image/png": "[encoded data removed]",
      "text/plain": [
       "<matplotlib.figure.Figure at 0x117502cc0>"
      ]
     },
     "metadata": {},
     "output_type": "display_data"
    },
    {
     "data": {
      "image/png": "[encoded data removed]",
      "text/plain": [
       "<matplotlib.figure.Figure at 0x110e99a90>"
      ]
     },
     "metadata": {},
     "output_type": "display_data"
    },
    {
     "data": {
      "image/png": "[encoded data removed]",
      "text/plain": [
       "<matplotlib.figure.Figure at 0x1169b3a90>"
      ]
     },
     "metadata": {},
     "output_type": "display_data"
    }
   ],
   "source": [
    "# import some data to play with\n",
    "iris = datasets.load_iris()\n",
    "\n",
    "# we only take the first two features. We could avoid this ugly\n",
    "# slicing by using a two-dim dataset\n",
    "X = iris.data[:, :2]\n",
    "y = iris.target\n",
    "\n",
    "h = .02  # step size in the mesh\n",
    "\n",
    "# Create color maps\n",
    "cmap_light = ListedColormap(['#FFAAAA', '#AAFFAA', '#AAAAFF'])\n",
    "cmap_bold = ListedColormap(['#FF0000', '#00FF00', '#0000FF'])\n",
    "\n",
    "weights='uniform'\n",
    "for n_neighbors in [1, 5, 15]:\n",
    "    # we create an instance of Neighbours Classifier and fit the data.\n",
    "    clf = neighbors.KNeighborsClassifier(n_neighbors, weights=weights)\n",
    "    clf.fit(X, y)\n",
    "\n",
    "    # Plot the decision boundary. For that, we will assign a color to each\n",
    "    # point in the mesh [x_min, x_max]x[y_min, y_max].\n",
    "    x_min, x_max = X[:, 0].min() - 1, X[:, 0].max() + 1\n",
    "    y_min, y_max = X[:, 1].min() - 1, X[:, 1].max() + 1\n",
    "    xx, yy = np.meshgrid(np.arange(x_min, x_max, h),\n",
    "                         np.arange(y_min, y_max, h))\n",
    "    Z = clf.predict(np.c_[xx.ravel(), yy.ravel()])\n",
    "\n",
    "    # Put the result into a color plot\n",
    "    Z = Z.reshape(xx.shape)\n",
    "    plt.figure()\n",
    "    plt.pcolormesh(xx, yy, Z, cmap=cmap_light)\n",
    "\n",
    "    # Plot also the training points\n",
    "    plt.scatter(X[:, 0], X[:, 1], c=y, cmap=cmap_bold,\n",
    "                edgecolor='k', s=20)\n",
    "    plt.xlim(xx.min(), xx.max())\n",
    "    plt.ylim(yy.min(), yy.max())\n",
    "    plt.title(\"3-Class classification (k = %i, weights = '%s')\"\n",
    "              % (n_neighbors, weights))\n",
    "\n",
    "plt.show()"
   ]
  },
  {
   "cell_type": "markdown",
   "metadata": {},
   "source": [
    "Notice how there are fewer holes in our regions as we go down the second set of plots. That is because setting k higher is smoothening up our regions -- it is no longer possible for a single outlier to mess up our predictions."
   ]
  },
  {
   "cell_type": "markdown",
   "metadata": {},
   "source": [
    "So see those regions? That is what we are trying to get really. What those regions tell us is that if we ever see a new point which lies inside them, we should assign them the region corresponding to the corresponding color."
   ]
  },
  {
   "cell_type": "code",
   "execution_count": 7,
   "metadata": {},
   "outputs": [],
   "source": [
    "# Read in all the images into a list\n",
    "list_ = []\n",
    "for i in np.arange(1, 50001):\n",
    "    list_.append(misc.imread('train/' + str(i) + '.png', mode='F').flatten())"
   ]
  },
  {
   "cell_type": "code",
   "execution_count": 8,
   "metadata": {},
   "outputs": [],
   "source": [
    "# Read in the labels\n",
    "labels = pd.read_csv('trainLabels.csv')"
   ]
  },
  {
   "cell_type": "code",
   "execution_count": 9,
   "metadata": {},
   "outputs": [
    {
     "data": {
      "text/html": [
       "<div>\n",
       "<style>\n",
       "    .dataframe thead tr:only-child th {\n",
       "        text-align: right;\n",
       "    }\n",
       "\n",
       "    .dataframe thead th {\n",
       "        text-align: left;\n",
       "    }\n",
       "\n",
       "    .dataframe tbody tr th {\n",
       "        vertical-align: top;\n",
       "    }\n",
       "</style>\n",
       "<table border=\"1\" class=\"dataframe\">\n",
       "  <thead>\n",
       "    <tr style=\"text-align: right;\">\n",
       "      <th></th>\n",
       "      <th>id</th>\n",
       "      <th>label</th>\n",
       "    </tr>\n",
       "  </thead>\n",
       "  <tbody>\n",
       "    <tr>\n",
       "      <th>0</th>\n",
       "      <td>1</td>\n",
       "      <td>frog</td>\n",
       "    </tr>\n",
       "    <tr>\n",
       "      <th>1</th>\n",
       "      <td>2</td>\n",
       "      <td>truck</td>\n",
       "    </tr>\n",
       "    <tr>\n",
       "      <th>2</th>\n",
       "      <td>3</td>\n",
       "      <td>truck</td>\n",
       "    </tr>\n",
       "    <tr>\n",
       "      <th>3</th>\n",
       "      <td>4</td>\n",
       "      <td>deer</td>\n",
       "    </tr>\n",
       "    <tr>\n",
       "      <th>4</th>\n",
       "      <td>5</td>\n",
       "      <td>automobile</td>\n",
       "    </tr>\n",
       "    <tr>\n",
       "      <th>5</th>\n",
       "      <td>6</td>\n",
       "      <td>automobile</td>\n",
       "    </tr>\n",
       "    <tr>\n",
       "      <th>6</th>\n",
       "      <td>7</td>\n",
       "      <td>bird</td>\n",
       "    </tr>\n",
       "    <tr>\n",
       "      <th>7</th>\n",
       "      <td>8</td>\n",
       "      <td>horse</td>\n",
       "    </tr>\n",
       "    <tr>\n",
       "      <th>8</th>\n",
       "      <td>9</td>\n",
       "      <td>ship</td>\n",
       "    </tr>\n",
       "    <tr>\n",
       "      <th>9</th>\n",
       "      <td>10</td>\n",
       "      <td>cat</td>\n",
       "    </tr>\n",
       "    <tr>\n",
       "      <th>10</th>\n",
       "      <td>11</td>\n",
       "      <td>deer</td>\n",
       "    </tr>\n",
       "    <tr>\n",
       "      <th>11</th>\n",
       "      <td>12</td>\n",
       "      <td>horse</td>\n",
       "    </tr>\n",
       "    <tr>\n",
       "      <th>12</th>\n",
       "      <td>13</td>\n",
       "      <td>horse</td>\n",
       "    </tr>\n",
       "    <tr>\n",
       "      <th>13</th>\n",
       "      <td>14</td>\n",
       "      <td>bird</td>\n",
       "    </tr>\n",
       "    <tr>\n",
       "      <th>14</th>\n",
       "      <td>15</td>\n",
       "      <td>truck</td>\n",
       "    </tr>\n",
       "    <tr>\n",
       "      <th>15</th>\n",
       "      <td>16</td>\n",
       "      <td>truck</td>\n",
       "    </tr>\n",
       "    <tr>\n",
       "      <th>16</th>\n",
       "      <td>17</td>\n",
       "      <td>truck</td>\n",
       "    </tr>\n",
       "    <tr>\n",
       "      <th>17</th>\n",
       "      <td>18</td>\n",
       "      <td>cat</td>\n",
       "    </tr>\n",
       "    <tr>\n",
       "      <th>18</th>\n",
       "      <td>19</td>\n",
       "      <td>bird</td>\n",
       "    </tr>\n",
       "    <tr>\n",
       "      <th>19</th>\n",
       "      <td>20</td>\n",
       "      <td>frog</td>\n",
       "    </tr>\n",
       "    <tr>\n",
       "      <th>20</th>\n",
       "      <td>21</td>\n",
       "      <td>deer</td>\n",
       "    </tr>\n",
       "    <tr>\n",
       "      <th>21</th>\n",
       "      <td>22</td>\n",
       "      <td>cat</td>\n",
       "    </tr>\n",
       "    <tr>\n",
       "      <th>22</th>\n",
       "      <td>23</td>\n",
       "      <td>frog</td>\n",
       "    </tr>\n",
       "    <tr>\n",
       "      <th>23</th>\n",
       "      <td>24</td>\n",
       "      <td>frog</td>\n",
       "    </tr>\n",
       "    <tr>\n",
       "      <th>24</th>\n",
       "      <td>25</td>\n",
       "      <td>bird</td>\n",
       "    </tr>\n",
       "    <tr>\n",
       "      <th>25</th>\n",
       "      <td>26</td>\n",
       "      <td>frog</td>\n",
       "    </tr>\n",
       "    <tr>\n",
       "      <th>26</th>\n",
       "      <td>27</td>\n",
       "      <td>cat</td>\n",
       "    </tr>\n",
       "    <tr>\n",
       "      <th>27</th>\n",
       "      <td>28</td>\n",
       "      <td>dog</td>\n",
       "    </tr>\n",
       "    <tr>\n",
       "      <th>28</th>\n",
       "      <td>29</td>\n",
       "      <td>deer</td>\n",
       "    </tr>\n",
       "    <tr>\n",
       "      <th>29</th>\n",
       "      <td>30</td>\n",
       "      <td>airplane</td>\n",
       "    </tr>\n",
       "    <tr>\n",
       "      <th>...</th>\n",
       "      <td>...</td>\n",
       "      <td>...</td>\n",
       "    </tr>\n",
       "    <tr>\n",
       "      <th>49970</th>\n",
       "      <td>49971</td>\n",
       "      <td>cat</td>\n",
       "    </tr>\n",
       "    <tr>\n",
       "      <th>49971</th>\n",
       "      <td>49972</td>\n",
       "      <td>truck</td>\n",
       "    </tr>\n",
       "    <tr>\n",
       "      <th>49972</th>\n",
       "      <td>49973</td>\n",
       "      <td>bird</td>\n",
       "    </tr>\n",
       "    <tr>\n",
       "      <th>49973</th>\n",
       "      <td>49974</td>\n",
       "      <td>automobile</td>\n",
       "    </tr>\n",
       "    <tr>\n",
       "      <th>49974</th>\n",
       "      <td>49975</td>\n",
       "      <td>deer</td>\n",
       "    </tr>\n",
       "    <tr>\n",
       "      <th>49975</th>\n",
       "      <td>49976</td>\n",
       "      <td>cat</td>\n",
       "    </tr>\n",
       "    <tr>\n",
       "      <th>49976</th>\n",
       "      <td>49977</td>\n",
       "      <td>ship</td>\n",
       "    </tr>\n",
       "    <tr>\n",
       "      <th>49977</th>\n",
       "      <td>49978</td>\n",
       "      <td>automobile</td>\n",
       "    </tr>\n",
       "    <tr>\n",
       "      <th>49978</th>\n",
       "      <td>49979</td>\n",
       "      <td>horse</td>\n",
       "    </tr>\n",
       "    <tr>\n",
       "      <th>49979</th>\n",
       "      <td>49980</td>\n",
       "      <td>cat</td>\n",
       "    </tr>\n",
       "    <tr>\n",
       "      <th>49980</th>\n",
       "      <td>49981</td>\n",
       "      <td>dog</td>\n",
       "    </tr>\n",
       "    <tr>\n",
       "      <th>49981</th>\n",
       "      <td>49982</td>\n",
       "      <td>deer</td>\n",
       "    </tr>\n",
       "    <tr>\n",
       "      <th>49982</th>\n",
       "      <td>49983</td>\n",
       "      <td>cat</td>\n",
       "    </tr>\n",
       "    <tr>\n",
       "      <th>49983</th>\n",
       "      <td>49984</td>\n",
       "      <td>cat</td>\n",
       "    </tr>\n",
       "    <tr>\n",
       "      <th>49984</th>\n",
       "      <td>49985</td>\n",
       "      <td>deer</td>\n",
       "    </tr>\n",
       "    <tr>\n",
       "      <th>49985</th>\n",
       "      <td>49986</td>\n",
       "      <td>ship</td>\n",
       "    </tr>\n",
       "    <tr>\n",
       "      <th>49986</th>\n",
       "      <td>49987</td>\n",
       "      <td>horse</td>\n",
       "    </tr>\n",
       "    <tr>\n",
       "      <th>49987</th>\n",
       "      <td>49988</td>\n",
       "      <td>bird</td>\n",
       "    </tr>\n",
       "    <tr>\n",
       "      <th>49988</th>\n",
       "      <td>49989</td>\n",
       "      <td>dog</td>\n",
       "    </tr>\n",
       "    <tr>\n",
       "      <th>49989</th>\n",
       "      <td>49990</td>\n",
       "      <td>automobile</td>\n",
       "    </tr>\n",
       "    <tr>\n",
       "      <th>49990</th>\n",
       "      <td>49991</td>\n",
       "      <td>deer</td>\n",
       "    </tr>\n",
       "    <tr>\n",
       "      <th>49991</th>\n",
       "      <td>49992</td>\n",
       "      <td>bird</td>\n",
       "    </tr>\n",
       "    <tr>\n",
       "      <th>49992</th>\n",
       "      <td>49993</td>\n",
       "      <td>airplane</td>\n",
       "    </tr>\n",
       "    <tr>\n",
       "      <th>49993</th>\n",
       "      <td>49994</td>\n",
       "      <td>automobile</td>\n",
       "    </tr>\n",
       "    <tr>\n",
       "      <th>49994</th>\n",
       "      <td>49995</td>\n",
       "      <td>airplane</td>\n",
       "    </tr>\n",
       "    <tr>\n",
       "      <th>49995</th>\n",
       "      <td>49996</td>\n",
       "      <td>bird</td>\n",
       "    </tr>\n",
       "    <tr>\n",
       "      <th>49996</th>\n",
       "      <td>49997</td>\n",
       "      <td>frog</td>\n",
       "    </tr>\n",
       "    <tr>\n",
       "      <th>49997</th>\n",
       "      <td>49998</td>\n",
       "      <td>truck</td>\n",
       "    </tr>\n",
       "    <tr>\n",
       "      <th>49998</th>\n",
       "      <td>49999</td>\n",
       "      <td>automobile</td>\n",
       "    </tr>\n",
       "    <tr>\n",
       "      <th>49999</th>\n",
       "      <td>50000</td>\n",
       "      <td>automobile</td>\n",
       "    </tr>\n",
       "  </tbody>\n",
       "</table>\n",
       "<p>50000 rows × 2 columns</p>\n",
       "</div>"
      ],
      "text/plain": [
       "          id       label\n",
       "0          1        frog\n",
       "1          2       truck\n",
       "2          3       truck\n",
       "3          4        deer\n",
       "4          5  automobile\n",
       "5          6  automobile\n",
       "6          7        bird\n",
       "7          8       horse\n",
       "8          9        ship\n",
       "9         10         cat\n",
       "10        11        deer\n",
       "11        12       horse\n",
       "12        13       horse\n",
       "13        14        bird\n",
       "14        15       truck\n",
       "15        16       truck\n",
       "16        17       truck\n",
       "17        18         cat\n",
       "18        19        bird\n",
       "19        20        frog\n",
       "20        21        deer\n",
       "21        22         cat\n",
       "22        23        frog\n",
       "23        24        frog\n",
       "24        25        bird\n",
       "25        26        frog\n",
       "26        27         cat\n",
       "27        28         dog\n",
       "28        29        deer\n",
       "29        30    airplane\n",
       "...      ...         ...\n",
       "49970  49971         cat\n",
       "49971  49972       truck\n",
       "49972  49973        bird\n",
       "49973  49974  automobile\n",
       "49974  49975        deer\n",
       "49975  49976         cat\n",
       "49976  49977        ship\n",
       "49977  49978  automobile\n",
       "49978  49979       horse\n",
       "49979  49980         cat\n",
       "49980  49981         dog\n",
       "49981  49982        deer\n",
       "49982  49983         cat\n",
       "49983  49984         cat\n",
       "49984  49985        deer\n",
       "49985  49986        ship\n",
       "49986  49987       horse\n",
       "49987  49988        bird\n",
       "49988  49989         dog\n",
       "49989  49990  automobile\n",
       "49990  49991        deer\n",
       "49991  49992        bird\n",
       "49992  49993    airplane\n",
       "49993  49994  automobile\n",
       "49994  49995    airplane\n",
       "49995  49996        bird\n",
       "49996  49997        frog\n",
       "49997  49998       truck\n",
       "49998  49999  automobile\n",
       "49999  50000  automobile\n",
       "\n",
       "[50000 rows x 2 columns]"
      ]
     },
     "execution_count": 9,
     "metadata": {},
     "output_type": "execute_result"
    }
   ],
   "source": [
    "labels"
   ]
  },
  {
   "cell_type": "code",
   "execution_count": 10,
   "metadata": {},
   "outputs": [],
   "source": [
    "just_labels = np.array(labels.iloc[:,1])\n",
    "def word_to_number(word):\n",
    "    word_to_number_dict = {\n",
    "        'airplane': 0,\n",
    "        'automobile': 1,\n",
    "        'bird': 2,\n",
    "        'cat': 3,\n",
    "        'deer': 4,\n",
    "        'dog': 5,\n",
    "        'frog': 6,\n",
    "        'horse': 7,\n",
    "        'ship': 8,\n",
    "        'truck': 9\n",
    "    }\n",
    "    return word_to_number_dict[word]\n",
    "vectorized_wtn = np.vectorize(word_to_number)\n",
    "y = vectorized_wtn(just_labels)"
   ]
  },
  {
   "cell_type": "code",
   "execution_count": 11,
   "metadata": {},
   "outputs": [],
   "source": [
    "X = np.array(list_)"
   ]
  },
  {
   "cell_type": "code",
   "execution_count": 12,
   "metadata": {},
   "outputs": [],
   "source": [
    "X_train, X_test, y_train, y_test = train_test_split(\n",
    "    X, y, test_size=0.33, random_state=42\n",
    ")"
   ]
  },
  {
   "cell_type": "code",
   "execution_count": 13,
   "metadata": {},
   "outputs": [
    {
     "data": {
      "text/plain": [
       "<matplotlib.image.AxesImage at 0x117bc7b70>"
      ]
     },
     "execution_count": 13,
     "metadata": {},
     "output_type": "execute_result"
    },
    {
     "data": {
      "image/png": "[encoded data removed]",
      "text/plain": [
       "<matplotlib.figure.Figure at 0x1168378d0>"
      ]
     },
     "metadata": {},
     "output_type": "display_data"
    }
   ],
   "source": [
    "plt.imshow(X_train[100].reshape(32, 32), cmap='gray')"
   ]
  },
  {
   "cell_type": "code",
   "execution_count": 14,
   "metadata": {},
   "outputs": [
    {
     "data": {
      "text/plain": [
       "9"
      ]
     },
     "execution_count": 14,
     "metadata": {},
     "output_type": "execute_result"
    }
   ],
   "source": [
    "y_train[100]"
   ]
  },
  {
   "cell_type": "code",
   "execution_count": 15,
   "metadata": {},
   "outputs": [
    {
     "data": {
      "image/png": "[encoded data removed]",
      "text/plain": [
       "<matplotlib.figure.Figure at 0x117c777f0>"
      ]
     },
     "metadata": {},
     "output_type": "display_data"
    },
    {
     "data": {
      "image/png": "[encoded data removed]",
      "text/plain": [
       "<matplotlib.figure.Figure at 0x117d589b0>"
      ]
     },
     "metadata": {},
     "output_type": "display_data"
    },
    {
     "data": {
      "image/png": "[encoded data removed]",
      "text/plain": [
       "<matplotlib.figure.Figure at 0x112c826a0>"
      ]
     },
     "metadata": {},
     "output_type": "display_data"
    },
    {
     "data": {
      "image/png": "[encoded data removed]",
      "text/plain": [
       "<matplotlib.figure.Figure at 0x117e778d0>"
      ]
     },
     "metadata": {},
     "output_type": "display_data"
    }
   ],
   "source": [
    "rand_indices = np.random.randint(1,len(X_train), size=4)\n",
    "for i, ix in enumerate(rand_indices):\n",
    "    plt.figure(i)\n",
    "    plt.imshow(X_train[ix].reshape(32, 32), cmap='gray')\n",
    "    plt.title(y_train[ix])\n",
    "    plt.draw()"
   ]
  },
  {
   "cell_type": "code",
   "execution_count": 16,
   "metadata": {
    "collapsed": true
   },
   "outputs": [],
   "source": [
    "clf = neighbors.KNeighborsClassifier(n_neighbors)\n",
    "clf.fit(X_train, y_train)\n",
    "\n",
    "# Plot the decision boundary. For that, we will assign a color to each\n",
    "# point in the mesh [x_min, x_max]x[y_min, y_max].\n",
    "Z = clf.predict(X_test[:1000])"
   ]
  },
  {
   "cell_type": "code",
   "execution_count": 17,
   "metadata": {},
   "outputs": [
    {
     "data": {
      "text/plain": [
       "array([8, 8, 8, 6, 5, 2, 8, 8, 0, 5, 8, 2, 8, 4, 9, 4, 8, 6, 4, 2, 8, 3, 3,\n",
       "       0, 4, 4, 2, 3, 4, 8, 4, 0, 2, 0, 2, 2, 0, 8, 4, 2, 2, 4, 0, 1, 8, 4,\n",
       "       8, 6, 4, 5, 9, 0, 2, 8, 4, 0, 8, 4, 4, 4, 8, 2, 4, 8, 4, 4, 2, 1, 8,\n",
       "       0, 0, 5, 4, 0, 8, 4, 4, 3, 1, 0, 8, 2, 8, 0, 2, 2, 8, 2, 4, 8, 8, 3,\n",
       "       4, 2, 2, 6, 8, 2, 8, 6, 2, 0, 4, 3, 7, 6, 0, 3, 0, 4, 6, 4, 4, 2, 4,\n",
       "       5, 2, 8, 4, 2, 8, 8, 2, 2, 2, 4, 9, 2, 0, 6, 8, 4, 6, 0, 1, 4, 4, 4,\n",
       "       2, 2, 0, 8, 4, 5, 5, 8, 4, 4, 4, 8, 4, 8, 4, 4, 3, 4, 8, 7, 8, 2, 2,\n",
       "       3, 4, 8, 0, 2, 4, 4, 3, 4, 0, 4, 4, 6, 2, 4, 5, 8, 8, 8, 4, 4, 4, 7,\n",
       "       8, 1, 8, 2, 5, 7, 0, 2, 1, 5, 8, 2, 0, 4, 1, 6, 2, 8, 7, 8, 2, 8, 4,\n",
       "       3, 4, 6, 3, 7, 0, 4, 0, 0, 8, 8, 4, 8, 4, 3, 4, 8, 8, 3, 0, 9, 4, 2,\n",
       "       2, 4, 2, 2, 3, 2, 5, 4, 4, 7, 4, 0, 7, 2, 8, 0, 7, 2, 2, 4, 2, 7, 8,\n",
       "       2, 8, 4, 8, 8, 2, 8, 3, 8, 4, 6, 2, 4, 4, 8, 0, 4, 8, 4, 8, 4, 4, 4,\n",
       "       7, 0, 2, 0, 1, 8, 8, 8, 7, 8, 0, 8, 4, 0, 4, 4, 3, 0, 8, 2, 4, 2, 8,\n",
       "       3, 3, 4, 8, 8, 4, 8, 8, 8, 7, 4, 8, 0, 6, 0, 2, 4, 0, 4, 4, 8, 8, 0,\n",
       "       5, 9, 2, 4, 4, 2, 3, 3, 8, 9, 2, 8, 5, 0, 8, 8, 3, 8, 8, 4, 4, 8, 4,\n",
       "       2, 7, 7, 4, 8, 4, 8, 4, 6, 4, 0, 0, 4, 0, 2, 4, 8, 2, 5, 5, 4, 7, 4,\n",
       "       4, 0, 6, 8, 2, 0, 8, 2, 8, 4, 4, 5, 4, 2, 8, 8, 2, 8, 8, 4, 2, 8, 2,\n",
       "       6, 4, 3, 3, 0, 4, 6, 4, 6, 8, 4, 5, 3, 4, 0, 3, 8, 1, 4, 0, 0, 0, 2,\n",
       "       5, 0, 9, 4, 5, 4, 2, 2, 5, 6, 2, 2, 0, 8, 8, 4, 3, 3, 4, 4, 0, 4, 6,\n",
       "       4, 9, 2, 6, 8, 4, 3, 2, 2, 4, 8, 8, 8, 8, 4, 8, 0, 3, 6, 2, 8, 8, 4,\n",
       "       2, 0, 6, 8, 4, 8, 8, 4, 4, 8, 2, 4, 4, 5, 8, 4, 2, 4, 2, 1, 4, 1, 8,\n",
       "       0, 4, 4, 8, 4, 8, 2, 2, 4, 6, 9, 4, 0, 4, 8, 2, 8, 8, 2, 8, 8, 8, 8,\n",
       "       0, 6, 4, 7, 4, 9, 0, 0, 4, 8, 2, 8, 2, 8, 7, 4, 1, 0, 5, 6, 8, 4, 2,\n",
       "       4, 2, 4, 4, 4, 2, 9, 2, 7, 0, 6, 4, 2, 8, 0, 4, 8, 8, 8, 0, 4, 8, 4,\n",
       "       4, 2, 4, 2, 8, 5, 0, 4, 8, 5, 2, 8, 2, 1, 4, 2, 8, 4, 5, 4, 8, 4, 7,\n",
       "       8, 0, 4, 8, 2, 4, 4, 6, 2, 2, 8, 4, 6, 0, 8, 5, 4, 3, 0, 2, 8, 8, 4,\n",
       "       2, 4, 8, 6, 2, 7, 8, 8, 2, 8, 4, 2, 8, 2, 2, 9, 2, 8, 4, 5, 4, 2, 3,\n",
       "       2, 6, 4, 4, 4, 8, 4, 8, 8, 8, 8, 2, 0, 4, 2, 8, 2, 0, 2, 0, 2, 5, 1,\n",
       "       3, 0, 2, 8, 4, 8, 6, 8, 3, 8, 0, 2, 8, 6, 5, 6, 4, 4, 2, 4, 0, 4, 8,\n",
       "       8, 4, 8, 4, 2, 2, 8, 0, 8, 2, 4, 4, 2, 8, 2, 2, 0, 0, 8, 5, 8, 4, 0,\n",
       "       3, 4, 8, 4, 8, 3, 4, 8, 2, 2, 4, 0, 0, 8, 2, 7, 5, 4, 0, 5, 0, 4, 2,\n",
       "       8, 4, 4, 4, 9, 5, 5, 6, 9, 8, 4, 4, 3, 4, 6, 0, 4, 4, 0, 4, 3, 4, 7,\n",
       "       2, 6, 2, 4, 2, 8, 2, 2, 4, 2, 4, 1, 2, 2, 6, 4, 4, 8, 0, 8, 6, 0, 0,\n",
       "       4, 4, 2, 2, 6, 4, 4, 4, 8, 5, 2, 8, 0, 4, 4, 5, 6, 6, 4, 2, 8, 2, 0,\n",
       "       8, 2, 0, 3, 4, 8, 2, 0, 2, 2, 5, 2, 2, 8, 8, 6, 4, 3, 5, 0, 2, 4, 2,\n",
       "       1, 4, 6, 4, 2, 7, 4, 8, 8, 7, 8, 0, 8, 8, 8, 5, 7, 6, 2, 0, 2, 1, 2,\n",
       "       4, 3, 2, 5, 2, 0, 4, 2, 4, 4, 8, 0, 6, 8, 2, 4, 0, 0, 1, 3, 8, 4, 4,\n",
       "       4, 0, 0, 4, 8, 0, 8, 3, 8, 4, 8, 3, 5, 1, 6, 8, 2, 8, 8, 0, 8, 1, 4,\n",
       "       0, 6, 2, 2, 2, 4, 2, 2, 3, 5, 8, 8, 2, 5, 0, 0, 6, 4, 3, 4, 4, 2, 1,\n",
       "       0, 0, 8, 3, 4, 6, 2, 4, 3, 2, 0, 9, 4, 8, 3, 3, 2, 2, 0, 0, 8, 2, 0,\n",
       "       6, 2, 4, 4, 5, 0, 4, 6, 6, 8, 2, 0, 4, 6, 6, 4, 0, 6, 9, 6, 4, 3, 6,\n",
       "       3, 0, 4, 0, 8, 6, 4, 8, 6, 8, 8, 4, 2, 6, 2, 0, 2, 0, 4, 3, 2, 4, 0,\n",
       "       5, 8, 0, 8, 6, 0, 2, 5, 8, 8, 8, 4, 2, 4, 1, 4, 8, 8, 2, 2, 8, 0, 5,\n",
       "       4, 0, 8, 1, 2, 4, 4, 0, 8, 3, 4])"
      ]
     },
     "execution_count": 17,
     "metadata": {},
     "output_type": "execute_result"
    }
   ],
   "source": [
    "Z"
   ]
  },
  {
   "cell_type": "code",
   "execution_count": 18,
   "metadata": {},
   "outputs": [
    {
     "data": {
      "text/plain": [
       "array([7, 8, 0, 6, 1, 6, 8, 0, 6, 5, 2, 5, 0, 7, 1, 6, 5, 6, 6, 5, 0, 5, 7,\n",
       "       2, 4, 4, 5, 5, 4, 8, 4, 3, 5, 0, 0, 8, 0, 1, 8, 0, 3, 0, 0, 0, 9, 4,\n",
       "       4, 6, 7, 6, 9, 0, 9, 9, 4, 3, 6, 2, 9, 9, 8, 4, 4, 8, 1, 1, 3, 9, 1,\n",
       "       5, 0, 3, 0, 2, 2, 7, 8, 3, 1, 8, 7, 5, 4, 0, 5, 7, 8, 1, 1, 4, 8, 3,\n",
       "       2, 2, 5, 9, 7, 7, 8, 8, 3, 4, 6, 1, 7, 8, 3, 7, 1, 7, 6, 4, 3, 0, 4,\n",
       "       6, 0, 8, 3, 3, 8, 9, 6, 5, 1, 4, 9, 2, 4, 3, 2, 4, 1, 0, 1, 6, 4, 2,\n",
       "       8, 2, 7, 1, 3, 6, 5, 8, 8, 5, 4, 6, 4, 1, 3, 7, 1, 7, 8, 7, 1, 1, 2,\n",
       "       5, 9, 1, 9, 2, 4, 5, 5, 2, 2, 3, 6, 3, 5, 6, 5, 8, 4, 8, 5, 7, 3, 9,\n",
       "       2, 1, 8, 6, 5, 7, 2, 5, 1, 3, 9, 4, 0, 8, 1, 1, 5, 1, 0, 9, 0, 4, 3,\n",
       "       5, 4, 6, 5, 9, 5, 8, 1, 0, 0, 2, 2, 1, 8, 5, 6, 0, 8, 2, 9, 9, 4, 6,\n",
       "       9, 4, 7, 4, 5, 7, 3, 6, 4, 7, 2, 6, 4, 5, 9, 7, 7, 3, 0, 7, 2, 7, 7,\n",
       "       4, 9, 4, 8, 1, 4, 1, 4, 7, 5, 6, 6, 0, 5, 9, 1, 9, 8, 2, 1, 5, 9, 4,\n",
       "       4, 4, 7, 9, 9, 0, 3, 2, 7, 8, 4, 9, 1, 2, 2, 7, 1, 3, 9, 7, 5, 6, 9,\n",
       "       5, 6, 3, 4, 8, 7, 3, 1, 8, 7, 6, 9, 0, 7, 4, 4, 9, 7, 3, 7, 1, 9, 3,\n",
       "       5, 9, 2, 3, 8, 3, 3, 3, 9, 9, 6, 8, 8, 2, 0, 4, 2, 9, 1, 5, 3, 0, 4,\n",
       "       2, 7, 0, 5, 9, 8, 6, 2, 1, 6, 6, 7, 2, 0, 2, 0, 9, 6, 3, 1, 1, 7, 3,\n",
       "       7, 0, 7, 8, 7, 2, 8, 6, 8, 6, 1, 5, 4, 7, 8, 9, 4, 9, 8, 4, 3, 7, 2,\n",
       "       3, 3, 7, 1, 6, 1, 6, 5, 3, 8, 3, 3, 3, 2, 0, 7, 9, 1, 2, 7, 0, 3, 0,\n",
       "       2, 0, 1, 6, 5, 7, 2, 9, 5, 6, 2, 3, 7, 2, 8, 7, 3, 5, 2, 7, 5, 3, 9,\n",
       "       2, 1, 7, 1, 9, 1, 3, 7, 7, 0, 3, 9, 7, 8, 4, 6, 8, 6, 0, 3, 8, 4, 6,\n",
       "       3, 4, 7, 9, 6, 8, 9, 9, 7, 8, 7, 4, 5, 3, 9, 5, 2, 7, 5, 9, 5, 1, 8,\n",
       "       7, 8, 7, 8, 6, 3, 6, 2, 0, 2, 9, 3, 3, 3, 8, 7, 3, 1, 4, 1, 0, 5, 8,\n",
       "       9, 3, 6, 9, 4, 9, 6, 1, 4, 6, 2, 4, 0, 8, 7, 4, 1, 4, 3, 3, 8, 1, 0,\n",
       "       9, 4, 1, 7, 6, 0, 1, 2, 7, 8, 0, 4, 5, 8, 4, 3, 8, 5, 7, 0, 1, 8, 1,\n",
       "       4, 6, 0, 7, 0, 8, 5, 3, 3, 5, 4, 8, 5, 3, 2, 3, 1, 8, 5, 8, 8, 5, 7,\n",
       "       9, 0, 8, 5, 3, 1, 7, 5, 9, 5, 7, 7, 2, 9, 9, 5, 9, 3, 6, 5, 0, 3, 2,\n",
       "       4, 5, 7, 6, 6, 9, 1, 9, 0, 9, 7, 6, 8, 7, 7, 9, 2, 8, 5, 5, 4, 2, 5,\n",
       "       4, 9, 9, 4, 4, 0, 7, 0, 0, 1, 9, 5, 4, 4, 9, 9, 5, 9, 7, 1, 7, 5, 9,\n",
       "       3, 4, 6, 8, 3, 8, 9, 0, 5, 9, 5, 6, 1, 2, 9, 5, 4, 6, 3, 6, 2, 6, 5,\n",
       "       8, 5, 3, 1, 5, 2, 8, 1, 9, 2, 4, 4, 7, 7, 5, 0, 8, 3, 9, 1, 1, 2, 0,\n",
       "       3, 4, 9, 4, 8, 6, 1, 7, 5, 5, 1, 9, 7, 8, 2, 4, 7, 6, 4, 7, 7, 7, 4,\n",
       "       7, 6, 3, 9, 3, 5, 2, 3, 6, 2, 1, 9, 2, 8, 3, 2, 1, 1, 0, 3, 5, 9, 2,\n",
       "       5, 5, 1, 4, 6, 8, 7, 2, 5, 2, 2, 1, 5, 2, 5, 5, 7, 9, 8, 9, 5, 0, 4,\n",
       "       7, 1, 0, 1, 3, 1, 6, 1, 6, 8, 8, 1, 8, 4, 6, 5, 5, 0, 2, 5, 1, 0, 7,\n",
       "       8, 2, 6, 5, 6, 8, 2, 9, 9, 1, 2, 0, 5, 0, 8, 9, 2, 5, 3, 8, 7, 6, 7,\n",
       "       8, 5, 6, 5, 2, 7, 1, 1, 9, 5, 8, 7, 0, 2, 9, 6, 7, 3, 3, 7, 3, 2, 7,\n",
       "       2, 3, 5, 5, 3, 1, 5, 2, 2, 4, 8, 7, 5, 4, 2, 9, 8, 4, 1, 5, 0, 3, 2,\n",
       "       1, 2, 0, 7, 1, 0, 0, 3, 0, 7, 0, 5, 1, 9, 7, 1, 2, 1, 0, 7, 7, 9, 6,\n",
       "       4, 6, 3, 7, 1, 6, 2, 2, 3, 3, 9, 9, 5, 6, 0, 0, 8, 1, 3, 5, 1, 4, 8,\n",
       "       9, 0, 1, 6, 7, 9, 9, 9, 5, 2, 0, 9, 1, 9, 3, 9, 9, 4, 8, 0, 8, 2, 3,\n",
       "       6, 0, 7, 4, 3, 2, 4, 4, 7, 8, 3, 2, 4, 6, 0, 6, 2, 1, 9, 6, 3, 3, 5,\n",
       "       0, 4, 9, 2, 6, 3, 4, 1, 3, 9, 1, 5, 6, 7, 0, 9, 5, 7, 6, 6, 2, 0, 0,\n",
       "       6, 8, 2, 1, 1, 0, 2, 8, 9, 1, 6, 6, 7, 6, 1, 7, 9, 9, 9, 5, 8, 1, 3,\n",
       "       4, 1, 1, 9, 5, 3, 7, 3, 1, 5, 4])"
      ]
     },
     "execution_count": 18,
     "metadata": {},
     "output_type": "execute_result"
    }
   ],
   "source": [
    "y_test[:1000]"
   ]
  },
  {
   "cell_type": "code",
   "execution_count": 19,
   "metadata": {},
   "outputs": [
    {
     "data": {
      "text/plain": [
       "0.25800000000000001"
      ]
     },
     "execution_count": 19,
     "metadata": {},
     "output_type": "execute_result"
    }
   ],
   "source": [
    "sum(Z == y_test[:1000])/1000"
   ]
  },
  {
   "cell_type": "markdown",
   "metadata": {},
   "source": [
    "do logistic regression\n",
    "do PCA\n",
    "do convulutions"
   ]
  },
  {
   "cell_type": "code",
   "execution_count": 25,
   "metadata": {},
   "outputs": [],
   "source": [
    "clf = SGDClassifier(n_jobs=-1, n_jobs=-1)"
   ]
  },
  {
   "cell_type": "code",
   "execution_count": null,
   "metadata": {},
   "outputs": [],
   "source": [
    "clf.fit(X_train, y_train)"
   ]
  },
  {
   "cell_type": "code",
   "execution_count": null,
   "metadata": {
    "collapsed": true
   },
   "outputs": [],
   "source": []
  }
 ],
 "metadata": {
  "kernelspec": {
   "display_name": "Python 3",
   "language": "python",
   "name": "python3"
  },
  "language_info": {
   "codemirror_mode": {
    "name": "ipython",
    "version": 3
   },
   "file_extension": ".py",
   "mimetype": "text/x-python",
   "name": "python",
   "nbconvert_exporter": "python",
   "pygments_lexer": "ipython3",
   "version": "3.6.2"
  }
 },
 "nbformat": 4,
 "nbformat_minor": 2
}
